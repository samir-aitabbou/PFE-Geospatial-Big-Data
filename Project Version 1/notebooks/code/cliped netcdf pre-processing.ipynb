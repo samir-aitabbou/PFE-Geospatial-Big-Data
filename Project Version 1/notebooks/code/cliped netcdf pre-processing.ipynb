{
 "cells": [
  {
   "cell_type": "code",
   "execution_count": 4,
   "id": "8a14a1e7",
   "metadata": {},
   "outputs": [],
   "source": [
    "# !pip install rioxarray\n",
    "# !pip install geopandas\n",
    "# !pip install rasterio"
   ]
  },
  {
   "cell_type": "code",
   "execution_count": 11,
   "id": "484ba3cc",
   "metadata": {},
   "outputs": [
    {
     "name": "stdout",
     "output_type": "stream",
     "text": [
      "crs from shapefile :-------------:   EPSG:4326\n",
      "crs from nc file :-------------:   None\n",
      "crs from shapefile 2:-------------:   EPSG:4326\n",
      "crs from nc file   2:-------------:   EPSG:4326\n"
     ]
    }
   ],
   "source": [
    "import xarray as xr\n",
    "import geopandas as gpd\n",
    " \n",
    "# shapefile_path = '../shapefiles/oum_rabia_utm/BVOER_UTM29N.shp'\n",
    "shapefile_path = 'oumrabiaa_shp/Oum_Er-Rbia.shp'\n",
    "\n",
    "sf = gpd.read_file(shapefile_path)\n",
    "\n",
    "nc_file_path = 'snowmelt_2002_2022/data_0.nc'\n",
    "\n",
    "nc_file = xr.open_dataset(nc_file_path)\n",
    "crs = sf.crs\n",
    "\n",
    "print(\"crs from shapefile :-------------:  \",crs)\n",
    "print(\"crs from nc file :-------------:  \",nc_file.rio.crs)\n",
    "\n",
    "\n",
    "# For netcdf files:\n",
    "nc_file.rio.write_crs(crs, inplace = True)\n",
    "# For shapefile:\n",
    "# sf.crs='EPSG:4326'\n",
    "# sf.set_crs('EPSG:4326', inplace = True, allow_override = True)\n",
    "\n",
    "\n",
    "print(\"crs from shapefile 2:-------------:  \",crs)\n",
    "print(\"crs from nc file   2:-------------:  \",nc_file.rio.crs)"
   ]
  },
  {
   "cell_type": "code",
   "execution_count": 12,
   "id": "8d708168",
   "metadata": {},
   "outputs": [],
   "source": [
    "nc_file.to_netcdf(\"data_0_clipped_nc.nc\")"
   ]
  },
  {
   "cell_type": "code",
   "execution_count": null,
   "id": "df51e146",
   "metadata": {},
   "outputs": [],
   "source": []
  }
 ],
 "metadata": {
  "kernelspec": {
   "display_name": "Python 3 (ipykernel)",
   "language": "python",
   "name": "python3"
  },
  "language_info": {
   "codemirror_mode": {
    "name": "ipython",
    "version": 3
   },
   "file_extension": ".py",
   "mimetype": "text/x-python",
   "name": "python",
   "nbconvert_exporter": "python",
   "pygments_lexer": "ipython3",
   "version": "3.11.1"
  }
 },
 "nbformat": 4,
 "nbformat_minor": 5
}
