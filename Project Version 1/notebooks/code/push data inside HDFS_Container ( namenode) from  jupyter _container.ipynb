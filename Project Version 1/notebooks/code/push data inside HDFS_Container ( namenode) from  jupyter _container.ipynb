{
 "cells": [
  {
   "cell_type": "markdown",
   "id": "d2415769",
   "metadata": {},
   "source": [
    "### we will push data from this container to HDFS container (namenode container)"
   ]
  },
  {
   "cell_type": "code",
   "execution_count": 1,
   "id": "dca6d3cd",
   "metadata": {},
   "outputs": [],
   "source": [
    "from scipy.io import netcdf\n",
    "import numpy as np"
   ]
  },
  {
   "cell_type": "code",
   "execution_count": 7,
   "id": "0b79d0bc",
   "metadata": {},
   "outputs": [],
   "source": [
    "local_data_path = \"/app/data/Ouka_data.nc\"\n",
    "hdfs_data_path = \"hdfs://namenode:9000/data/\"\n",
    "               \n",
    "!hadoop fs -put {local_data_path} {hdfs_data_path}"
   ]
  },
  {
   "cell_type": "code",
   "execution_count": 6,
   "id": "029ad28d",
   "metadata": {},
   "outputs": [],
   "source": [
    "# local_data_path = \"/app/data/Ouka_data.nc\"\n",
    "# hdfs_data_path = \"hdfs://namenode:9000/tmp/\"\n",
    "\n",
    "# !hadoop fs -copyFromLocal {local_data_path} {hdfs_data_path}"
   ]
  },
  {
   "cell_type": "code",
   "execution_count": null,
   "id": "d6c1d7f7",
   "metadata": {},
   "outputs": [],
   "source": []
  }
 ],
 "metadata": {
  "kernelspec": {
   "display_name": "Python 3 (ipykernel)",
   "language": "python",
   "name": "python3"
  },
  "language_info": {
   "codemirror_mode": {
    "name": "ipython",
    "version": 3
   },
   "file_extension": ".py",
   "mimetype": "text/x-python",
   "name": "python",
   "nbconvert_exporter": "python",
   "pygments_lexer": "ipython3",
   "version": "3.10.6"
  }
 },
 "nbformat": 4,
 "nbformat_minor": 5
}
