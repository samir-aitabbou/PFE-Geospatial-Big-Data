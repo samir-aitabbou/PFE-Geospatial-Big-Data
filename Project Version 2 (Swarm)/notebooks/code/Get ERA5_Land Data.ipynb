{
 "cells": [
  {
   "cell_type": "code",
   "execution_count": null,
   "id": "c8ad7291",
   "metadata": {},
   "outputs": [],
   "source": [
    "import cdsapi\n",
    "\n",
    "c = cdsapi.Client()"
   ]
  },
  {
   "cell_type": "code",
   "execution_count": 6,
   "id": "efe6530b",
   "metadata": {},
   "outputs": [
    {
     "name": "stdout",
     "output_type": "stream",
     "text": [
      "10m_u_component_of_wind\n"
     ]
    },
    {
     "name": "stderr",
     "output_type": "stream",
     "text": [
      "2023-05-23 12:29:30,840 INFO Welcome to the CDS\n",
      "2023-05-23 12:29:30,840 INFO Sending request to https://cds.climate.copernicus.eu/api/v2/resources/reanalysis-era5-land\n",
      "2023-05-23 12:29:30,922 INFO Request is queued\n",
      "2023-05-23 12:29:31,997 INFO Request is running\n",
      "2023-05-23 12:55:53,077 INFO Request is completed\n",
      "2023-05-23 12:55:53,092 INFO Downloading https://download-0003-clone.copernicus-climate.eu/cache-compute-0003/cache/data8/adaptor.mars.internal-1684842925.3306153-16267-14-0522edd6-efbe-47d8-a874-70f3609916d4.zip to 10m_u_component_of_wind_2002_2022.zip (9.4M)\n",
      "2023-05-23 12:56:02,685 INFO Download rate 999.7K/s                                                                    \n",
      "2023-05-23 12:56:02,826 INFO Welcome to the CDS\n",
      "2023-05-23 12:56:02,826 INFO Sending request to https://cds.climate.copernicus.eu/api/v2/resources/reanalysis-era5-land\n",
      "2023-05-23 12:56:02,936 INFO Request is queued\n"
     ]
    },
    {
     "name": "stdout",
     "output_type": "stream",
     "text": [
      "10m_v_component_of_wind\n"
     ]
    },
    {
     "name": "stderr",
     "output_type": "stream",
     "text": [
      "2023-05-23 12:56:04,017 INFO Request is running\n",
      "2023-05-23 13:22:25,580 INFO Request is completed\n",
      "2023-05-23 13:22:25,580 INFO Downloading https://download-0015-clone.copernicus-climate.eu/cache-compute-0015/cache/data3/adaptor.mars.internal-1684844542.505633-17061-1-8e760ca3-a6e6-4074-b910-855a958520e2.zip to 10m_v_component_of_wind_2002_2022.zip (9.5M)\n",
      "2023-05-23 13:22:28,232 INFO Download rate 3.6M/s                                                                      \n",
      "2023-05-23 13:22:28,393 INFO Welcome to the CDS\n",
      "2023-05-23 13:22:28,393 INFO Sending request to https://cds.climate.copernicus.eu/api/v2/resources/reanalysis-era5-land\n",
      "2023-05-23 13:22:28,496 INFO Request is queued\n"
     ]
    },
    {
     "name": "stdout",
     "output_type": "stream",
     "text": [
      "2m_temperature\n"
     ]
    },
    {
     "name": "stderr",
     "output_type": "stream",
     "text": [
      "2023-05-23 13:22:29,567 INFO Request is running\n",
      "2023-05-23 13:48:50,381 INFO Request is completed\n",
      "2023-05-23 13:48:50,381 INFO Downloading https://download-0003-clone.copernicus-climate.eu/cache-compute-0003/cache/data7/adaptor.mars.internal-1684846077.9483747-10654-16-bef83ed9-b4fc-45ad-94bf-f476081467f2.zip to 2m_temperature_2002_2022.zip (9.5M)\n",
      "2023-05-23 13:48:52,814 INFO Download rate 3.9M/s                                                                      \n",
      "2023-05-23 13:48:52,951 INFO Welcome to the CDS\n",
      "2023-05-23 13:48:52,952 INFO Sending request to https://cds.climate.copernicus.eu/api/v2/resources/reanalysis-era5-land\n",
      "2023-05-23 13:48:53,015 INFO Request is queued\n"
     ]
    },
    {
     "name": "stdout",
     "output_type": "stream",
     "text": [
      "snow_cover\n"
     ]
    },
    {
     "name": "stderr",
     "output_type": "stream",
     "text": [
      "2023-05-23 13:48:54,096 INFO Request is running\n",
      "2023-05-23 14:17:15,123 INFO Request is completed\n",
      "2023-05-23 14:17:15,124 INFO Downloading https://download-0006-clone.copernicus-climate.eu/cache-compute-0006/cache/data6/adaptor.mars.internal-1684847783.1861212-2668-5-10c28922-9492-49f6-96ac-96196793640b.zip to snow_cover_2002_2022.zip (1.6M)\n",
      "2023-05-23 14:17:16,190 INFO Download rate 1.5M/s                                                                      \n",
      "2023-05-23 14:17:16,340 INFO Welcome to the CDS\n",
      "2023-05-23 14:17:16,340 INFO Sending request to https://cds.climate.copernicus.eu/api/v2/resources/reanalysis-era5-land\n",
      "2023-05-23 14:17:16,439 INFO Request is queued\n"
     ]
    },
    {
     "name": "stdout",
     "output_type": "stream",
     "text": [
      "snow_density\n"
     ]
    },
    {
     "name": "stderr",
     "output_type": "stream",
     "text": [
      "2023-05-23 14:17:17,521 INFO Request is running\n",
      "2023-05-23 14:45:38,651 INFO Request is completed\n",
      "2023-05-23 14:45:38,667 INFO Downloading https://download-0019.copernicus-climate.eu/cache-compute-0019/cache/data4/adaptor.mars.internal-1684849486.33635-27709-3-0077592e-0634-40b1-9e3d-73928446de73.zip to snow_density_2002_2022.zip (2.4M)\n",
      "2023-05-23 14:45:40,049 INFO Download rate 1.7M/s                                                                      \n",
      "2023-05-23 14:45:40,199 INFO Welcome to the CDS\n",
      "2023-05-23 14:45:40,199 INFO Sending request to https://cds.climate.copernicus.eu/api/v2/resources/reanalysis-era5-land\n",
      "2023-05-23 14:45:40,300 INFO Request is queued\n"
     ]
    },
    {
     "name": "stdout",
     "output_type": "stream",
     "text": [
      "snow_depth\n"
     ]
    },
    {
     "name": "stderr",
     "output_type": "stream",
     "text": [
      "2023-05-23 14:45:41,383 INFO Request is running\n",
      "2023-05-23 15:14:03,391 INFO Request is completed\n",
      "2023-05-23 15:14:03,392 INFO Downloading https://download-0020.copernicus-climate.eu/cache-compute-0020/cache/data9/adaptor.mars.internal-1684851214.2699113-11575-1-8f907df5-d3a4-4c5f-8933-73ddc368ab5c.zip to snow_depth_2002_2022.zip (912.6K)\n",
      "2023-05-23 15:14:04,726 INFO Download rate 684.6K/s                                                                    \n",
      "2023-05-23 15:14:04,862 INFO Welcome to the CDS\n",
      "2023-05-23 15:14:04,862 INFO Sending request to https://cds.climate.copernicus.eu/api/v2/resources/reanalysis-era5-land\n",
      "2023-05-23 15:14:04,942 INFO Request is queued\n"
     ]
    },
    {
     "name": "stdout",
     "output_type": "stream",
     "text": [
      "snow_depth_water_equivalent\n"
     ]
    },
    {
     "name": "stderr",
     "output_type": "stream",
     "text": [
      "2023-05-23 15:14:06,026 INFO Request is running\n",
      "2023-05-23 15:40:37,055 INFO Request is completed\n",
      "2023-05-23 15:40:37,056 INFO Downloading https://download-0017.copernicus-climate.eu/cache-compute-0017/cache/data6/adaptor.mars.internal-1684852829.465557-20153-7-8ceae99d-a85e-4bef-be42-6ca83add993e.zip to snow_depth_water_equivalent_2002_2022.zip (1.2M)\n",
      "2023-05-23 15:40:41,570 INFO Download rate 275.8K/s                                                                    \n",
      "2023-05-23 15:40:43,153 INFO Welcome to the CDS\n",
      "2023-05-23 15:40:43,159 INFO Sending request to https://cds.climate.copernicus.eu/api/v2/resources/reanalysis-era5-land\n",
      "2023-05-23 15:40:43,256 INFO Request is queued\n"
     ]
    },
    {
     "name": "stdout",
     "output_type": "stream",
     "text": [
      "snowfall\n"
     ]
    },
    {
     "name": "stderr",
     "output_type": "stream",
     "text": [
      "2023-05-23 15:40:46,701 INFO Request is running\n",
      "2023-05-23 16:07:25,517 INFO Request is completed\n",
      "2023-05-23 16:07:25,525 INFO Downloading https://download-0006-clone.copernicus-climate.eu/cache-compute-0006/cache/data7/adaptor.mars.internal-1684854429.0712306-21877-9-d6694e69-3573-4a6b-99e7-7d05f667fd7f.zip to snowfall_2002_2022.zip (505.4K)\n",
      "2023-05-23 16:07:30,062 INFO Download rate 111.5K/s                                                                    \n",
      "2023-05-23 16:07:30,227 INFO Welcome to the CDS\n",
      "2023-05-23 16:07:30,227 INFO Sending request to https://cds.climate.copernicus.eu/api/v2/resources/reanalysis-era5-land\n"
     ]
    },
    {
     "name": "stdout",
     "output_type": "stream",
     "text": [
      "snowmelt\n"
     ]
    },
    {
     "name": "stderr",
     "output_type": "stream",
     "text": [
      "2023-05-23 16:07:30,513 INFO Downloading https://download-0004-clone.copernicus-climate.eu/cache-compute-0004/cache/data4/adaptor.mars.internal-1684839789.0687428-30297-10-ad8fccbd-224f-400a-b5d2-41862ead0a7c.zip to snowmelt_2002_2022.zip (1.5M)\n",
      "2023-05-23 16:07:31,619 INFO Download rate 1.4M/s                                                                      \n"
     ]
    },
    {
     "name": "stdout",
     "output_type": "stream",
     "text": [
      "surface_pressure\n"
     ]
    },
    {
     "name": "stderr",
     "output_type": "stream",
     "text": [
      "2023-05-23 16:07:32,242 INFO Welcome to the CDS\n",
      "2023-05-23 16:07:32,250 INFO Sending request to https://cds.climate.copernicus.eu/api/v2/resources/reanalysis-era5-land\n",
      "2023-05-23 16:07:32,414 INFO Request is queued\n",
      "2023-05-23 16:07:33,489 INFO Request is running\n",
      "2023-05-23 16:36:20,272 INFO Request is completed\n",
      "2023-05-23 16:36:20,274 INFO Downloading https://download-0010-clone.copernicus-climate.eu/cache-compute-0010/cache/data2/adaptor.mars.internal-1684856101.6124377-20864-15-2f4b3000-7bf6-42bd-a267-dd7d6e0d6717.zip to surface_pressure_2002_2022.zip (9.9M)\n",
      "2023-05-23 16:36:30,636 INFO Download rate 978.2K/s                                                                    \n",
      "2023-05-23 16:36:31,696 INFO Welcome to the CDS\n",
      "2023-05-23 16:36:31,699 INFO Sending request to https://cds.climate.copernicus.eu/api/v2/resources/reanalysis-era5-land\n",
      "2023-05-23 16:36:31,781 INFO Request is queued\n"
     ]
    },
    {
     "name": "stdout",
     "output_type": "stream",
     "text": [
      "total_precipitation\n"
     ]
    },
    {
     "name": "stderr",
     "output_type": "stream",
     "text": [
      "2023-05-23 16:36:33,728 INFO Request is running\n",
      "2023-05-23 17:05:22,127 INFO Request is completed\n",
      "2023-05-23 17:05:22,131 INFO Downloading https://download-0012-clone.copernicus-climate.eu/cache-compute-0012/cache/data8/adaptor.mars.internal-1684857805.925839-29754-14-9bb9a442-b795-417f-924a-960471c0560d.zip to total_precipitation_2002_2022.zip (3.3M)\n",
      "2023-05-23 17:05:31,407 INFO Download rate 365.6K/s                                                                    \n"
     ]
    }
   ],
   "source": [
    "# -*- coding: utf-8 -*-\n",
    "\"\"\"\n",
    "Created on 5/2023\n",
    "\n",
    "@author: AIT-ABBOU Samir\n",
    "\"\"\"\n",
    "\n",
    "\n",
    "import cdsapi\n",
    "\n",
    "c = cdsapi.Client()\n",
    "\n",
    "\n",
    "vars = ['10m_u_component_of_wind', '10m_v_component_of_wind', '2m_temperature',\n",
    "            'snow_cover', 'snow_density', 'snow_depth',\n",
    "            'snow_depth_water_equivalent', 'snowfall', 'snowmelt',\n",
    "            'surface_pressure', 'total_precipitation']\n",
    "\n",
    "\n",
    "for var in vars:\n",
    "    \n",
    "    print(var)\n",
    "    c.retrieve(\n",
    "        'reanalysis-era5-land',\n",
    "        {\n",
    "            'variable': var,\n",
    "            \n",
    "            'year': [\n",
    "                '2002', '2003', '2004',\n",
    "                '2005', '2006', '2007',\n",
    "                '2008', '2009', '2010',\n",
    "                '2011', '2012', '2013',\n",
    "                '2014', '2015', '2016',\n",
    "                '2017', '2018', '2019',\n",
    "                '2020', '2021', '2022',\n",
    "            ],\n",
    "            \n",
    "            'month': [\n",
    "                '01', '02', '03',\n",
    "                '04', '05', '06',\n",
    "                '07', '08', '09',\n",
    "                '10', '11', '12',\n",
    "            ],\n",
    "            \n",
    "            'day': [\n",
    "                '01', '02', '03',\n",
    "                '04', '05', '06',\n",
    "                '07', '08', '09',\n",
    "                '10', '11', '12',\n",
    "                '13', '14', '15',\n",
    "                '16', '17', '18',\n",
    "                '19', '20', '21',\n",
    "                '22', '23', '24',\n",
    "                '25', '26', '27',\n",
    "                '28', '29', '30',\n",
    "                '31',\n",
    "            ],\n",
    "            'time': '12:00',\n",
    "            \n",
    "            'area': [33.32, -8.36, 31.33,\n",
    "                    -5.06,\n",
    "            ],\n",
    "            'format': 'netcdf.zip',\n",
    "        },\n",
    "        var+'_2002_2022.zip')\n",
    "    \n",
    "    \n",
    "    \n",
    "    \n",
    "    \n"
   ]
  }
 ],
 "metadata": {
  "kernelspec": {
   "display_name": "Python 3 (ipykernel)",
   "language": "python",
   "name": "python3"
  },
  "language_info": {
   "codemirror_mode": {
    "name": "ipython",
    "version": 3
   },
   "file_extension": ".py",
   "mimetype": "text/x-python",
   "name": "python",
   "nbconvert_exporter": "python",
   "pygments_lexer": "ipython3",
   "version": "3.10.6"
  }
 },
 "nbformat": 4,
 "nbformat_minor": 5
}
