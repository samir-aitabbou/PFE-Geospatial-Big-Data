{
 "cells": [
  {
   "cell_type": "markdown",
   "id": "1d97df30",
   "metadata": {},
   "source": [
    "# shapefiles ----------"
   ]
  },
  {
   "cell_type": "code",
   "execution_count": 1,
   "id": "e1dbb12e",
   "metadata": {},
   "outputs": [
    {
     "name": "stdout",
     "output_type": "stream",
     "text": [
      "Collecting pyshp\n",
      "  Downloading pyshp-2.3.1-py2.py3-none-any.whl (46 kB)\n",
      "\u001b[2K     \u001b[90m━━━━━━━━━━━━━━━━━━━━━━━━━━━━━━━━━━━━━━━━\u001b[0m \u001b[32m46.5/46.5 kB\u001b[0m \u001b[31m1.6 MB/s\u001b[0m eta \u001b[36m0:00:00\u001b[0m\n",
      "\u001b[?25hInstalling collected packages: pyshp\n",
      "Successfully installed pyshp-2.3.1\n",
      "\u001b[33mWARNING: Running pip as the 'root' user can result in broken permissions and conflicting behaviour with the system package manager. It is recommended to use a virtual environment instead: https://pip.pypa.io/warnings/venv\u001b[0m\u001b[33m\n",
      "\u001b[0m"
     ]
    }
   ],
   "source": [
    "!pip install pyshp"
   ]
  },
  {
   "cell_type": "markdown",
   "id": "17f2f7b0",
   "metadata": {},
   "source": [
    "# Import Packages"
   ]
  },
  {
   "cell_type": "code",
   "execution_count": 2,
   "id": "80808e14",
   "metadata": {},
   "outputs": [],
   "source": [
    "import shapefile\n",
    "%matplotlib inline\n",
    "import matplotlib\n",
    "matplotlib.style.use('ggplot')\n",
    "import matplotlib.pyplot as plt\n",
    "import matplotlib.patches as patches\n",
    "from matplotlib.patches import Polygon\n",
    "from matplotlib.collections import PatchCollection\n",
    "import numpy as np\n",
    "from matplotlib.cm import *\n",
    "from IPython.display import Image as ImageShow"
   ]
  },
  {
   "cell_type": "markdown",
   "id": "6d3942e7",
   "metadata": {},
   "source": [
    "# Create a shapefile object"
   ]
  },
  {
   "cell_type": "code",
   "execution_count": 9,
   "id": "8bb5606f",
   "metadata": {},
   "outputs": [],
   "source": [
    "#   -- input --\n",
    "sf = shapefile.Reader(r'../shapefiles/oum_rabia_utm/BVOER_UTM29N')"
   ]
  },
  {
   "cell_type": "code",
   "execution_count": 12,
   "id": "33def367",
   "metadata": {},
   "outputs": [
    {
     "name": "stdout",
     "output_type": "stream",
     "text": [
      "number of shapes imported:  1\n"
     ]
    }
   ],
   "source": [
    "print ('number of shapes imported: ', len(sf.shapes()))"
   ]
  },
  {
   "cell_type": "markdown",
   "id": "7f8f8746",
   "metadata": {},
   "source": [
    "# Reading Geometry"
   ]
  },
  {
   "cell_type": "markdown",
   "id": "5548114d",
   "metadata": {},
   "source": [
    "Get the list of the shapefile's geometry by calling the shapes() method\n",
    "\n",
    "\n",
    "The shapes method returns a list of Shape objects describing the geometry of each shape record\n"
   ]
  },
  {
   "cell_type": "code",
   "execution_count": 13,
   "id": "da17cbe5",
   "metadata": {},
   "outputs": [
    {
     "data": {
      "text/plain": [
       "Shapes: [Shape #0: POLYGON]"
      ]
     },
     "execution_count": 13,
     "metadata": {},
     "output_type": "execute_result"
    }
   ],
   "source": [
    "shapes  = sf.shapes()\n",
    "shapes"
   ]
  },
  {
   "cell_type": "code",
   "execution_count": 14,
   "id": "5e9d1945",
   "metadata": {},
   "outputs": [
    {
     "data": {
      "text/plain": [
       "1"
      ]
     },
     "execution_count": 14,
     "metadata": {},
     "output_type": "execute_result"
    }
   ],
   "source": [
    "len(shapes)"
   ]
  },
  {
   "cell_type": "markdown",
   "id": "e9cd4d95",
   "metadata": {},
   "source": [
    "Each shape record contains the following attributes\n"
   ]
  },
  {
   "cell_type": "code",
   "execution_count": 18,
   "id": "3bcb2b20",
   "metadata": {},
   "outputs": [
    {
     "name": "stdout",
     "output_type": "stream",
     "text": [
      "_Shape__oid\n",
      "_errors\n",
      "_from_geojson\n",
      "bbox\n",
      "oid\n",
      "parts\n",
      "points\n",
      "shapeType\n",
      "shapeTypeName\n"
     ]
    }
   ],
   "source": [
    "for name in dir(shapes[0]):\n",
    "    if not name.startswith('__'):\n",
    "        print (name)"
   ]
  },
  {
   "cell_type": "markdown",
   "id": "3908029c",
   "metadata": {},
   "source": [
    "shapeType: an integer representing the type of shape as defined by the shapefile specification.\n"
   ]
  },
  {
   "cell_type": "code",
   "execution_count": 20,
   "id": "d8d1f86f",
   "metadata": {},
   "outputs": [
    {
     "data": {
      "text/plain": [
       "5"
      ]
     },
     "execution_count": 20,
     "metadata": {},
     "output_type": "execute_result"
    }
   ],
   "source": [
    "shapes[0].shapeType\n"
   ]
  },
  {
   "cell_type": "markdown",
   "id": "9c180b06",
   "metadata": {},
   "source": [
    "bbox: If the shape type contains multiple points this tuple describes the lower left (x,y) coordinate and upper right corner coordinate creating a complete box around the points. If the shapeType is a Null (shapeType == 0) then an AttributeError is raised.\n"
   ]
  },
  {
   "cell_type": "code",
   "execution_count": 22,
   "id": "40b1ec63",
   "metadata": {},
   "outputs": [
    {
     "name": "stdout",
     "output_type": "stream",
     "text": [
      "['559580.803', '3468787.654', '867611.363', '3687962.806']\n"
     ]
    }
   ],
   "source": [
    "# Get the bounding box of the 1st shape.\n",
    "# Round coordinates to 3 decimal places\n",
    "bbox = shapes[0].bbox\n",
    "print (['%.3f' % coord for coord in bbox])"
   ]
  },
  {
   "cell_type": "markdown",
   "id": "00ceba0a",
   "metadata": {},
   "source": [
    "parts: Parts simply group collections of points into shapes. If the shape record has multiple parts this attribute contains the index of the first point of each part. If there is only one part then a list containing 0 is returned.\n"
   ]
  },
  {
   "cell_type": "code",
   "execution_count": 23,
   "id": "3b1e5800",
   "metadata": {},
   "outputs": [
    {
     "data": {
      "text/plain": [
       "[0]"
      ]
     },
     "execution_count": 23,
     "metadata": {},
     "output_type": "execute_result"
    }
   ],
   "source": [
    "shapes[0].parts"
   ]
  },
  {
   "cell_type": "markdown",
   "id": "9524204d",
   "metadata": {},
   "source": [
    "points: The points attribute contains a list of tuples containing an (x,y) coordinate for each point in the shape.\n"
   ]
  },
  {
   "cell_type": "code",
   "execution_count": 26,
   "id": "5014fd89",
   "metadata": {},
   "outputs": [
    {
     "data": {
      "text/plain": [
       "3548"
      ]
     },
     "execution_count": 26,
     "metadata": {},
     "output_type": "execute_result"
    }
   ],
   "source": [
    "len(shapes[0].points)"
   ]
  },
  {
   "cell_type": "markdown",
   "id": "60db6f53",
   "metadata": {},
   "source": [
    "# Reading Records\n"
   ]
  },
  {
   "cell_type": "markdown",
   "id": "0c56131f",
   "metadata": {},
   "source": [
    "* A record in a shapefile contains the attributes for each shape in the collection of geometry.\n",
    "*  Records are stored in the dbf file.\n",
    "* The link between geometry and attributes is the foundation of all geographic information systems.\n",
    "* This critical link is implied by the order of shapes and corresponding records in the shp geometry file and the dbf attribute file.\n",
    "\n",
    "\n",
    "The field names of a shapefile are available as soon as you read a shapefile. You can call the “fields” attribute of the shapefile as a Python list. Each field is a Python list with the following information:\n",
    "\n",
    "* Field name: the name describing the data at this column index.\n",
    "* Field type: the type of data at this column index. Types can be: Character, Numbers, Longs, Dates, or Memo.\n",
    "* Field length: the length of the data found at this column index.\n",
    "* Decimal length: the number of decimal places found in “Number” fields."
   ]
  },
  {
   "cell_type": "code",
   "execution_count": 27,
   "id": "643eb902",
   "metadata": {},
   "outputs": [
    {
     "data": {
      "text/plain": [
       "1"
      ]
     },
     "execution_count": 27,
     "metadata": {},
     "output_type": "execute_result"
    }
   ],
   "source": [
    "recs = sf.records()\n",
    "len(recs)"
   ]
  },
  {
   "cell_type": "markdown",
   "id": "69e21f40",
   "metadata": {},
   "source": [
    "Each record is a list containing an attribute corresponding to each field in the field list.\n"
   ]
  },
  {
   "cell_type": "code",
   "execution_count": 29,
   "id": "cf5e788f",
   "metadata": {},
   "outputs": [
    {
     "data": {
      "text/plain": [
       "[1, 'BV. Oum Er Rabia', 1242864.71428, 34992383754.7]"
      ]
     },
     "execution_count": 29,
     "metadata": {},
     "output_type": "execute_result"
    }
   ],
   "source": [
    "recs[0][:]"
   ]
  },
  {
   "cell_type": "markdown",
   "id": "062b8d87",
   "metadata": {},
   "source": [
    "# Plotting a simple record"
   ]
  },
  {
   "cell_type": "code",
   "execution_count": 32,
   "id": "80556c81",
   "metadata": {},
   "outputs": [],
   "source": [
    "# Get all the information for a single shape(in this case, the 1st shape)\n",
    "shape_ex = sf.shape(0)"
   ]
  },
  {
   "cell_type": "code",
   "execution_count": 37,
   "id": "cfb6a4ed",
   "metadata": {},
   "outputs": [
    {
     "data": {
      "text/plain": [
       "3548"
      ]
     },
     "execution_count": 37,
     "metadata": {},
     "output_type": "execute_result"
    }
   ],
   "source": [
    "len(shape_ex.points)"
   ]
  },
  {
   "cell_type": "markdown",
   "id": "a8f37b6c",
   "metadata": {},
   "source": [
    "The points attribute contains a list of latitude-longitude values that define the shape (state) boundary.\n",
    "\n",
    "* Loop over those points to create an array of longitude and latitude values to plot.\n",
    "* A single point can be accessed with shape_ex.points[0] and will return a lon/lat pair, e.g. (-70.13123,40.6210). * Pull out the first and second index and put them in pre-defined numpy arrays:"
   ]
  },
  {
   "cell_type": "code",
   "execution_count": 52,
   "id": "4253a266",
   "metadata": {},
   "outputs": [],
   "source": [
    "def plot_one_shp_bassin(sf):\n",
    "    \n",
    "    shape_ex = sf.shape(0)\n",
    "    x_lon = np.zeros((len(shape_ex.points), 1))\n",
    "    y_lat = np.zeros((len(shape_ex.points), 1))\n",
    "    for ip in range(len(shape_ex.points)):\n",
    "        x_lon[ip] = shape_ex.points[ip][0]\n",
    "        y_lat[ip] = shape_ex.points[ip][1]\n",
    "    \n",
    "\n",
    "        #   -- plot --\n",
    "    fig     = plt.figure()\n",
    "    ax      = fig.add_subplot(111)\n",
    "    ax.get_yaxis().set_visible(True)\n",
    "    ax.get_xaxis().set_visible(True)\n",
    "    ax.set_frame_on(False)\n",
    "    plt.plot(x_lon,y_lat,'k')\n",
    "\n",
    "    # use bbox (bounding box) to set plot limits\n",
    "    plt.xlim(shape_ex.bbox[0],shape_ex.bbox[2])"
   ]
  },
  {
   "cell_type": "code",
   "execution_count": 53,
   "id": "55bfac1c",
   "metadata": {},
   "outputs": [
    {
     "data": {
      "image/png": "[encoded data removed]",
      "text/plain": [
       "<Figure size 640x480 with 1 Axes>"
      ]
     },
     "metadata": {},
     "output_type": "display_data"
    }
   ],
   "source": [
    "plot_one_shp(sf)"
   ]
  },
  {
   "cell_type": "code",
   "execution_count": 54,
   "id": "e56a5c76",
   "metadata": {},
   "outputs": [],
   "source": [
    "def plot_all_shp_bassins(sf):\n",
    "\n",
    "    #   -- plot --\n",
    "    fig     = plt.figure()\n",
    "    ax      = fig.add_subplot(111)\n",
    "    ax.get_yaxis().set_visible(True)\n",
    "    ax.get_xaxis().set_visible(True)\n",
    "    ax.set_frame_on(False)\n",
    "\n",
    "    for shape in sf.shapeRecords():\n",
    "        x = [i[0] for i in shape.shape.points[:]]\n",
    "        y = [i[1] for i in shape.shape.points[:]]\n",
    "        plt.plot(x,y)\n",
    "\n",
    "    plt.show()"
   ]
  },
  {
   "cell_type": "code",
   "execution_count": 55,
   "id": "4d493be9",
   "metadata": {},
   "outputs": [
    {
     "data": {
      "image/png": "[encoded data removed]",
      "text/plain": [
       "<Figure size 640x480 with 1 Axes>"
      ]
     },
     "metadata": {},
     "output_type": "display_data"
    }
   ],
   "source": [
    "plot_all_shp_graphs(sf)\n"
   ]
  },
  {
   "cell_type": "code",
   "execution_count": null,
   "id": "a5c8af3e",
   "metadata": {},
   "outputs": [],
   "source": []
  },
  {
   "cell_type": "code",
   "execution_count": null,
   "id": "552b66ec",
   "metadata": {},
   "outputs": [],
   "source": []
  },
  {
   "cell_type": "markdown",
   "id": "0c7de682",
   "metadata": {},
   "source": [
    "# cliping"
   ]
  },
  {
   "cell_type": "markdown",
   "id": "629991c4",
   "metadata": {},
   "source": [
    "## using rioxarray"
   ]
  },
  {
   "cell_type": "code",
   "execution_count": 64,
   "id": "5a34f9c6",
   "metadata": {},
   "outputs": [],
   "source": [
    "# !pip install rioxarray"
   ]
  },
  {
   "cell_type": "code",
   "execution_count": 65,
   "id": "153c185b",
   "metadata": {},
   "outputs": [],
   "source": [
    "# !pip install geopandas"
   ]
  },
  {
   "cell_type": "code",
   "execution_count": 67,
   "id": "ba08bade",
   "metadata": {},
   "outputs": [],
   "source": [
    "# !pip install rasterio"
   ]
  },
  {
   "cell_type": "code",
   "execution_count": 58,
   "id": "fb16c0c2",
   "metadata": {},
   "outputs": [],
   "source": [
    "def cliping_netcdf(nc_file_path,shapefile_path,nc_file_name):\n",
    "    import geopandas as gpd\n",
    "    import xarray as xr \n",
    "    from shapely.geometry import mapping\n",
    "\n",
    "    shp = gpd.read_file(shapefile_path)\n",
    "    nc_file = xr.open_dataset(nc_file_path)\n",
    "    \n",
    "    shp_crs = shp.crs\n",
    "\n",
    "    print(\"crs from shapefile :-------------:  \",shp_crs)\n",
    "    print(\"crs from nc file :-------------:  \",nc_file.rio.crs)\n",
    "\n",
    "\n",
    "    # For netcdf files:\n",
    "#     nc_file.rio.write_crs('EPSG:4326', inplace = True)\n",
    "    nc_file.rio.write_crs(shp_crs, inplace = True)\n",
    "    # For shapefile:\n",
    "    # sf.crs='EPSG:4326'\n",
    "    # sf.set_crs('EPSG:4326', inplace = True, allow_override = True)\n",
    "\n",
    "\n",
    "    print(\"crs from shapefile 2:-------------:  \",shp_crs)\n",
    "    print(\"crs from nc file   2:-------------:  \",nc_file.rio.crs)\n",
    "\n",
    "    \n",
    "    \n",
    "    # Clip the NetCDF file using the shapefile geometry\n",
    "    clipped_nc = nc_file.rio.clip(shp.geometry.apply(mapping), all_touched=True)\n",
    "    \n",
    "    # Remove NAN values\n",
    "    \n",
    "    # nan values are diffecult to remove in case of netcdf file , so as a solution we can replace nan values\n",
    "    # with other cammon value sach as 999999 \n",
    "    \n",
    "    # save clipped_nc \n",
    "#     clipped_nc.to_netcdf(nc_file_name+'_clipped.nc')\n",
    "    print(\",clping successefuly end !\")\n",
    "    return clipped_nc\n"
   ]
  },
  {
   "cell_type": "markdown",
   "id": "52a2a90f",
   "metadata": {},
   "source": [
    "# TEST\n"
   ]
  },
  {
   "cell_type": "code",
   "execution_count": 63,
   "id": "b723f941",
   "metadata": {},
   "outputs": [
    {
     "name": "stdout",
     "output_type": "stream",
     "text": [
      "crs from shapefile :-------------:   EPSG:4326\n",
      "crs from nc file :-------------:   None\n",
      "crs from shapefile 2:-------------:   EPSG:4326\n",
      "crs from nc file   2:-------------:   EPSG:4326\n",
      ",clping successefuly end !\n"
     ]
    }
   ],
   "source": [
    "# shapefile_path = '../shapefiles/oum_rabia_utm/BVOER_UTM29N.shp'\n",
    "shapefile_path = '../shapefiles/masira/BV_EL_Massira.shp'\n",
    "nc_file_path = 'data_3.nc'\n",
    "\n",
    "nc_clipped_file = cliping_netcdf(nc_file_path,shapefile_path,'sssss')"
   ]
  },
  {
   "cell_type": "code",
   "execution_count": 64,
   "id": "9e1faf10",
   "metadata": {},
   "outputs": [
    {
     "data": {
      "text/html": [
       "<div><svg style=\"position: absolute; width: 0; height: 0; overflow: hidden\">\n",
       "<defs>\n",
       "<symbol id=\"icon-database\" viewBox=\"0 0 32 32\">\n",
       "<path d=\"M16 0c-8.837 0-16 2.239-16 5v4c0 2.761 7.163 5 16 5s16-2.239 16-5v-4c0-2.761-7.163-5-16-5z\"></path>\n",
       "<path d=\"M16 17c-8.837 0-16-2.239-16-5v6c0 2.761 7.163 5 16 5s16-2.239 16-5v-6c0 2.761-7.163 5-16 5z\"></path>\n",
       "<path d=\"M16 26c-8.837 0-16-2.239-16-5v6c0 2.761 7.163 5 16 5s16-2.239 16-5v-6c0 2.761-7.163 5-16 5z\"></path>\n",
       "</symbol>\n",
       "<symbol id=\"icon-file-text2\" viewBox=\"0 0 32 32\">\n",
       "<path d=\"M28.681 7.159c-0.694-0.947-1.662-2.053-2.724-3.116s-2.169-2.030-3.116-2.724c-1.612-1.182-2.393-1.319-2.841-1.319h-15.5c-1.378 0-2.5 1.121-2.5 2.5v27c0 1.378 1.122 2.5 2.5 2.5h23c1.378 0 2.5-1.122 2.5-2.5v-19.5c0-0.448-0.137-1.23-1.319-2.841zM24.543 5.457c0.959 0.959 1.712 1.825 2.268 2.543h-4.811v-4.811c0.718 0.556 1.584 1.309 2.543 2.268zM28 29.5c0 0.271-0.229 0.5-0.5 0.5h-23c-0.271 0-0.5-0.229-0.5-0.5v-27c0-0.271 0.229-0.5 0.5-0.5 0 0 15.499-0 15.5 0v7c0 0.552 0.448 1 1 1h7v19.5z\"></path>\n",
       "<path d=\"M23 26h-14c-0.552 0-1-0.448-1-1s0.448-1 1-1h14c0.552 0 1 0.448 1 1s-0.448 1-1 1z\"></path>\n",
       "<path d=\"M23 22h-14c-0.552 0-1-0.448-1-1s0.448-1 1-1h14c0.552 0 1 0.448 1 1s-0.448 1-1 1z\"></path>\n",
       "<path d=\"M23 18h-14c-0.552 0-1-0.448-1-1s0.448-1 1-1h14c0.552 0 1 0.448 1 1s-0.448 1-1 1z\"></path>\n",
       "</symbol>\n",
       "</defs>\n",
       "</svg>\n",
       "<style>/* CSS stylesheet for displaying xarray objects in jupyterlab.\n",
       " *\n",
       " */\n",
       "\n",
       ":root {\n",
       "  --xr-font-color0: var(--jp-content-font-color0, rgba(0, 0, 0, 1));\n",
       "  --xr-font-color2: var(--jp-content-font-color2, rgba(0, 0, 0, 0.54));\n",
       "  --xr-font-color3: var(--jp-content-font-color3, rgba(0, 0, 0, 0.38));\n",
       "  --xr-border-color: var(--jp-border-color2, #e0e0e0);\n",
       "  --xr-disabled-color: var(--jp-layout-color3, #bdbdbd);\n",
       "  --xr-background-color: var(--jp-layout-color0, white);\n",
       "  --xr-background-color-row-even: var(--jp-layout-color1, white);\n",
       "  --xr-background-color-row-odd: var(--jp-layout-color2, #eeeeee);\n",
       "}\n",
       "\n",
       "html[theme=dark],\n",
       "body[data-theme=dark],\n",
       "body.vscode-dark {\n",
       "  --xr-font-color0: rgba(255, 255, 255, 1);\n",
       "  --xr-font-color2: rgba(255, 255, 255, 0.54);\n",
       "  --xr-font-color3: rgba(255, 255, 255, 0.38);\n",
       "  --xr-border-color: #1F1F1F;\n",
       "  --xr-disabled-color: #515151;\n",
       "  --xr-background-color: #111111;\n",
       "  --xr-background-color-row-even: #111111;\n",
       "  --xr-background-color-row-odd: #313131;\n",
       "}\n",
       "\n",
       ".xr-wrap {\n",
       "  display: block !important;\n",
       "  min-width: 300px;\n",
       "  max-width: 700px;\n",
       "}\n",
       "\n",
       ".xr-text-repr-fallback {\n",
       "  /* fallback to plain text repr when CSS is not injected (untrusted notebook) */\n",
       "  display: none;\n",
       "}\n",
       "\n",
       ".xr-header {\n",
       "  padding-top: 6px;\n",
       "  padding-bottom: 6px;\n",
       "  margin-bottom: 4px;\n",
       "  border-bottom: solid 1px var(--xr-border-color);\n",
       "}\n",
       "\n",
       ".xr-header > div,\n",
       ".xr-header > ul {\n",
       "  display: inline;\n",
       "  margin-top: 0;\n",
       "  margin-bottom: 0;\n",
       "}\n",
       "\n",
       ".xr-obj-type,\n",
       ".xr-array-name {\n",
       "  margin-left: 2px;\n",
       "  margin-right: 10px;\n",
       "}\n",
       "\n",
       ".xr-obj-type {\n",
       "  color: var(--xr-font-color2);\n",
       "}\n",
       "\n",
       ".xr-sections {\n",
       "  padding-left: 0 !important;\n",
       "  display: grid;\n",
       "  grid-template-columns: 150px auto auto 1fr 20px 20px;\n",
       "}\n",
       "\n",
       ".xr-section-item {\n",
       "  display: contents;\n",
       "}\n",
       "\n",
       ".xr-section-item input {\n",
       "  display: none;\n",
       "}\n",
       "\n",
       ".xr-section-item input + label {\n",
       "  color: var(--xr-disabled-color);\n",
       "}\n",
       "\n",
       ".xr-section-item input:enabled + label {\n",
       "  cursor: pointer;\n",
       "  color: var(--xr-font-color2);\n",
       "}\n",
       "\n",
       ".xr-section-item input:enabled + label:hover {\n",
       "  color: var(--xr-font-color0);\n",
       "}\n",
       "\n",
       ".xr-section-summary {\n",
       "  grid-column: 1;\n",
       "  color: var(--xr-font-color2);\n",
       "  font-weight: 500;\n",
       "}\n",
       "\n",
       ".xr-section-summary > span {\n",
       "  display: inline-block;\n",
       "  padding-left: 0.5em;\n",
       "}\n",
       "\n",
       ".xr-section-summary-in:disabled + label {\n",
       "  color: var(--xr-font-color2);\n",
       "}\n",
       "\n",
       ".xr-section-summary-in + label:before {\n",
       "  display: inline-block;\n",
       "  content: '►';\n",
       "  font-size: 11px;\n",
       "  width: 15px;\n",
       "  text-align: center;\n",
       "}\n",
       "\n",
       ".xr-section-summary-in:disabled + label:before {\n",
       "  color: var(--xr-disabled-color);\n",
       "}\n",
       "\n",
       ".xr-section-summary-in:checked + label:before {\n",
       "  content: '▼';\n",
       "}\n",
       "\n",
       ".xr-section-summary-in:checked + label > span {\n",
       "  display: none;\n",
       "}\n",
       "\n",
       ".xr-section-summary,\n",
       ".xr-section-inline-details {\n",
       "  padding-top: 4px;\n",
       "  padding-bottom: 4px;\n",
       "}\n",
       "\n",
       ".xr-section-inline-details {\n",
       "  grid-column: 2 / -1;\n",
       "}\n",
       "\n",
       ".xr-section-details {\n",
       "  display: none;\n",
       "  grid-column: 1 / -1;\n",
       "  margin-bottom: 5px;\n",
       "}\n",
       "\n",
       ".xr-section-summary-in:checked ~ .xr-section-details {\n",
       "  display: contents;\n",
       "}\n",
       "\n",
       ".xr-array-wrap {\n",
       "  grid-column: 1 / -1;\n",
       "  display: grid;\n",
       "  grid-template-columns: 20px auto;\n",
       "}\n",
       "\n",
       ".xr-array-wrap > label {\n",
       "  grid-column: 1;\n",
       "  vertical-align: top;\n",
       "}\n",
       "\n",
       ".xr-preview {\n",
       "  color: var(--xr-font-color3);\n",
       "}\n",
       "\n",
       ".xr-array-preview,\n",
       ".xr-array-data {\n",
       "  padding: 0 5px !important;\n",
       "  grid-column: 2;\n",
       "}\n",
       "\n",
       ".xr-array-data,\n",
       ".xr-array-in:checked ~ .xr-array-preview {\n",
       "  display: none;\n",
       "}\n",
       "\n",
       ".xr-array-in:checked ~ .xr-array-data,\n",
       ".xr-array-preview {\n",
       "  display: inline-block;\n",
       "}\n",
       "\n",
       ".xr-dim-list {\n",
       "  display: inline-block !important;\n",
       "  list-style: none;\n",
       "  padding: 0 !important;\n",
       "  margin: 0;\n",
       "}\n",
       "\n",
       ".xr-dim-list li {\n",
       "  display: inline-block;\n",
       "  padding: 0;\n",
       "  margin: 0;\n",
       "}\n",
       "\n",
       ".xr-dim-list:before {\n",
       "  content: '(';\n",
       "}\n",
       "\n",
       ".xr-dim-list:after {\n",
       "  content: ')';\n",
       "}\n",
       "\n",
       ".xr-dim-list li:not(:last-child):after {\n",
       "  content: ',';\n",
       "  padding-right: 5px;\n",
       "}\n",
       "\n",
       ".xr-has-index {\n",
       "  font-weight: bold;\n",
       "}\n",
       "\n",
       ".xr-var-list,\n",
       ".xr-var-item {\n",
       "  display: contents;\n",
       "}\n",
       "\n",
       ".xr-var-item > div,\n",
       ".xr-var-item label,\n",
       ".xr-var-item > .xr-var-name span {\n",
       "  background-color: var(--xr-background-color-row-even);\n",
       "  margin-bottom: 0;\n",
       "}\n",
       "\n",
       ".xr-var-item > .xr-var-name:hover span {\n",
       "  padding-right: 5px;\n",
       "}\n",
       "\n",
       ".xr-var-list > li:nth-child(odd) > div,\n",
       ".xr-var-list > li:nth-child(odd) > label,\n",
       ".xr-var-list > li:nth-child(odd) > .xr-var-name span {\n",
       "  background-color: var(--xr-background-color-row-odd);\n",
       "}\n",
       "\n",
       ".xr-var-name {\n",
       "  grid-column: 1;\n",
       "}\n",
       "\n",
       ".xr-var-dims {\n",
       "  grid-column: 2;\n",
       "}\n",
       "\n",
       ".xr-var-dtype {\n",
       "  grid-column: 3;\n",
       "  text-align: right;\n",
       "  color: var(--xr-font-color2);\n",
       "}\n",
       "\n",
       ".xr-var-preview {\n",
       "  grid-column: 4;\n",
       "}\n",
       "\n",
       ".xr-index-preview {\n",
       "  grid-column: 2 / 5;\n",
       "  color: var(--xr-font-color2);\n",
       "}\n",
       "\n",
       ".xr-var-name,\n",
       ".xr-var-dims,\n",
       ".xr-var-dtype,\n",
       ".xr-preview,\n",
       ".xr-attrs dt {\n",
       "  white-space: nowrap;\n",
       "  overflow: hidden;\n",
       "  text-overflow: ellipsis;\n",
       "  padding-right: 10px;\n",
       "}\n",
       "\n",
       ".xr-var-name:hover,\n",
       ".xr-var-dims:hover,\n",
       ".xr-var-dtype:hover,\n",
       ".xr-attrs dt:hover {\n",
       "  overflow: visible;\n",
       "  width: auto;\n",
       "  z-index: 1;\n",
       "}\n",
       "\n",
       ".xr-var-attrs,\n",
       ".xr-var-data,\n",
       ".xr-index-data {\n",
       "  display: none;\n",
       "  background-color: var(--xr-background-color) !important;\n",
       "  padding-bottom: 5px !important;\n",
       "}\n",
       "\n",
       ".xr-var-attrs-in:checked ~ .xr-var-attrs,\n",
       ".xr-var-data-in:checked ~ .xr-var-data,\n",
       ".xr-index-data-in:checked ~ .xr-index-data {\n",
       "  display: block;\n",
       "}\n",
       "\n",
       ".xr-var-data > table {\n",
       "  float: right;\n",
       "}\n",
       "\n",
       ".xr-var-name span,\n",
       ".xr-var-data,\n",
       ".xr-index-name div,\n",
       ".xr-index-data,\n",
       ".xr-attrs {\n",
       "  padding-left: 25px !important;\n",
       "}\n",
       "\n",
       ".xr-attrs,\n",
       ".xr-var-attrs,\n",
       ".xr-var-data,\n",
       ".xr-index-data {\n",
       "  grid-column: 1 / -1;\n",
       "}\n",
       "\n",
       "dl.xr-attrs {\n",
       "  padding: 0;\n",
       "  margin: 0;\n",
       "  display: grid;\n",
       "  grid-template-columns: 125px auto;\n",
       "}\n",
       "\n",
       ".xr-attrs dt,\n",
       ".xr-attrs dd {\n",
       "  padding: 0;\n",
       "  margin: 0;\n",
       "  float: left;\n",
       "  padding-right: 10px;\n",
       "  width: auto;\n",
       "}\n",
       "\n",
       ".xr-attrs dt {\n",
       "  font-weight: normal;\n",
       "  grid-column: 1;\n",
       "}\n",
       "\n",
       ".xr-attrs dt:hover span {\n",
       "  display: inline-block;\n",
       "  background: var(--xr-background-color);\n",
       "  padding-right: 10px;\n",
       "}\n",
       "\n",
       ".xr-attrs dd {\n",
       "  grid-column: 2;\n",
       "  white-space: pre-wrap;\n",
       "  word-break: break-all;\n",
       "}\n",
       "\n",
       ".xr-icon-database,\n",
       ".xr-icon-file-text2,\n",
       ".xr-no-icon {\n",
       "  display: inline-block;\n",
       "  vertical-align: middle;\n",
       "  width: 1em;\n",
       "  height: 1.5em !important;\n",
       "  stroke-width: 0;\n",
       "  stroke: currentColor;\n",
       "  fill: currentColor;\n",
       "}\n",
       "</style><pre class='xr-text-repr-fallback'>&lt;xarray.Dataset&gt;\n",
       "Dimensions:      (longitude: 29, latitude: 20, time: 7670)\n",
       "Coordinates:\n",
       "  * longitude    (longitude) float32 -7.87 -7.77 -7.67 ... -5.27 -5.17 -5.07\n",
       "  * latitude     (latitude) float32 33.23 33.13 33.03 ... 31.53 31.43 31.33\n",
       "  * time         (time) datetime64[ns] 2002-01-01T12:00:00 ... 2022-12-31T12:...\n",
       "    spatial_ref  int64 0\n",
       "Data variables:\n",
       "    smlt         (time, latitude, longitude) float32 nan nan nan ... nan nan nan\n",
       "Attributes:\n",
       "    Conventions:  CF-1.6\n",
       "    history:      2023-05-30 12:39:23 GMT by grib_to_netcdf-2.24.0: /opt/ecmw...</pre><div class='xr-wrap' style='display:none'><div class='xr-header'><div class='xr-obj-type'>xarray.Dataset</div></div><ul class='xr-sections'><li class='xr-section-item'><input id='section-91699e27-e7c8-479a-bc04-dda04c864734' class='xr-section-summary-in' type='checkbox' disabled ><label for='section-91699e27-e7c8-479a-bc04-dda04c864734' class='xr-section-summary'  title='Expand/collapse section'>Dimensions:</label><div class='xr-section-inline-details'><ul class='xr-dim-list'><li><span class='xr-has-index'>longitude</span>: 29</li><li><span class='xr-has-index'>latitude</span>: 20</li><li><span class='xr-has-index'>time</span>: 7670</li></ul></div><div class='xr-section-details'></div></li><li class='xr-section-item'><input id='section-8776f395-5db0-4dd5-9846-6f414b5b7b3c' class='xr-section-summary-in' type='checkbox'  checked><label for='section-8776f395-5db0-4dd5-9846-6f414b5b7b3c' class='xr-section-summary' >Coordinates: <span>(4)</span></label><div class='xr-section-inline-details'></div><div class='xr-section-details'><ul class='xr-var-list'><li class='xr-var-item'><div class='xr-var-name'><span class='xr-has-index'>longitude</span></div><div class='xr-var-dims'>(longitude)</div><div class='xr-var-dtype'>float32</div><div class='xr-var-preview xr-preview'>-7.87 -7.77 -7.67 ... -5.17 -5.07</div><input id='attrs-6ea8100c-fba8-4764-87c7-3131beef1b4b' class='xr-var-attrs-in' type='checkbox' ><label for='attrs-6ea8100c-fba8-4764-87c7-3131beef1b4b' title='Show/Hide attributes'><svg class='icon xr-icon-file-text2'><use xlink:href='#icon-file-text2'></use></svg></label><input id='data-97dbf29a-491a-43f7-bfaa-69dc4e4e1452' class='xr-var-data-in' type='checkbox'><label for='data-97dbf29a-491a-43f7-bfaa-69dc4e4e1452' title='Show/Hide data repr'><svg class='icon xr-icon-database'><use xlink:href='#icon-database'></use></svg></label><div class='xr-var-attrs'><dl class='xr-attrs'><dt><span>units :</span></dt><dd>degrees_east</dd><dt><span>long_name :</span></dt><dd>longitude</dd><dt><span>axis :</span></dt><dd>X</dd><dt><span>standard_name :</span></dt><dd>longitude</dd></dl></div><div class='xr-var-data'><pre>array([-7.87, -7.77, -7.67, -7.57, -7.47, -7.37, -7.27, -7.17, -7.07, -6.97,\n",
       "       -6.87, -6.77, -6.67, -6.57, -6.47, -6.37, -6.27, -6.17, -6.07, -5.97,\n",
       "       -5.87, -5.77, -5.67, -5.57, -5.47, -5.37, -5.27, -5.17, -5.07],\n",
       "      dtype=float32)</pre></div></li><li class='xr-var-item'><div class='xr-var-name'><span class='xr-has-index'>latitude</span></div><div class='xr-var-dims'>(latitude)</div><div class='xr-var-dtype'>float32</div><div class='xr-var-preview xr-preview'>33.23 33.13 33.03 ... 31.43 31.33</div><input id='attrs-ca139402-6628-447d-b48b-c0b237f4faf6' class='xr-var-attrs-in' type='checkbox' ><label for='attrs-ca139402-6628-447d-b48b-c0b237f4faf6' title='Show/Hide attributes'><svg class='icon xr-icon-file-text2'><use xlink:href='#icon-file-text2'></use></svg></label><input id='data-5e28a52a-c1b3-4911-a05c-b1d58bf29d4c' class='xr-var-data-in' type='checkbox'><label for='data-5e28a52a-c1b3-4911-a05c-b1d58bf29d4c' title='Show/Hide data repr'><svg class='icon xr-icon-database'><use xlink:href='#icon-database'></use></svg></label><div class='xr-var-attrs'><dl class='xr-attrs'><dt><span>units :</span></dt><dd>degrees_north</dd><dt><span>long_name :</span></dt><dd>latitude</dd><dt><span>axis :</span></dt><dd>Y</dd><dt><span>standard_name :</span></dt><dd>latitude</dd></dl></div><div class='xr-var-data'><pre>array([33.23, 33.13, 33.03, 32.93, 32.83, 32.73, 32.63, 32.53, 32.43, 32.33,\n",
       "       32.23, 32.13, 32.03, 31.93, 31.83, 31.73, 31.63, 31.53, 31.43, 31.33],\n",
       "      dtype=float32)</pre></div></li><li class='xr-var-item'><div class='xr-var-name'><span class='xr-has-index'>time</span></div><div class='xr-var-dims'>(time)</div><div class='xr-var-dtype'>datetime64[ns]</div><div class='xr-var-preview xr-preview'>2002-01-01T12:00:00 ... 2022-12-...</div><input id='attrs-2a1f1499-fb7d-451e-bb7b-4d8c5fd86fe8' class='xr-var-attrs-in' type='checkbox' ><label for='attrs-2a1f1499-fb7d-451e-bb7b-4d8c5fd86fe8' title='Show/Hide attributes'><svg class='icon xr-icon-file-text2'><use xlink:href='#icon-file-text2'></use></svg></label><input id='data-95a23bd9-2c53-40ac-ab01-a05d33b608b8' class='xr-var-data-in' type='checkbox'><label for='data-95a23bd9-2c53-40ac-ab01-a05d33b608b8' title='Show/Hide data repr'><svg class='icon xr-icon-database'><use xlink:href='#icon-database'></use></svg></label><div class='xr-var-attrs'><dl class='xr-attrs'><dt><span>long_name :</span></dt><dd>time</dd></dl></div><div class='xr-var-data'><pre>array([&#x27;2002-01-01T12:00:00.000000000&#x27;, &#x27;2002-01-02T12:00:00.000000000&#x27;,\n",
       "       &#x27;2002-01-03T12:00:00.000000000&#x27;, ..., &#x27;2022-12-29T12:00:00.000000000&#x27;,\n",
       "       &#x27;2022-12-30T12:00:00.000000000&#x27;, &#x27;2022-12-31T12:00:00.000000000&#x27;],\n",
       "      dtype=&#x27;datetime64[ns]&#x27;)</pre></div></li><li class='xr-var-item'><div class='xr-var-name'><span>spatial_ref</span></div><div class='xr-var-dims'>()</div><div class='xr-var-dtype'>int64</div><div class='xr-var-preview xr-preview'>0</div><input id='attrs-922eec83-a47e-4113-a30f-a8069c0d0df9' class='xr-var-attrs-in' type='checkbox' ><label for='attrs-922eec83-a47e-4113-a30f-a8069c0d0df9' title='Show/Hide attributes'><svg class='icon xr-icon-file-text2'><use xlink:href='#icon-file-text2'></use></svg></label><input id='data-57d51fda-fc91-4e41-aefa-8aba4ff43e6a' class='xr-var-data-in' type='checkbox'><label for='data-57d51fda-fc91-4e41-aefa-8aba4ff43e6a' title='Show/Hide data repr'><svg class='icon xr-icon-database'><use xlink:href='#icon-database'></use></svg></label><div class='xr-var-attrs'><dl class='xr-attrs'><dt><span>crs_wkt :</span></dt><dd>GEOGCS[&quot;WGS 84&quot;,DATUM[&quot;WGS_1984&quot;,SPHEROID[&quot;WGS 84&quot;,6378137,298.257223563]],PRIMEM[&quot;Greenwich&quot;,0],UNIT[&quot;degree&quot;,0.0174532925199433,AUTHORITY[&quot;EPSG&quot;,&quot;9122&quot;]],AXIS[&quot;Latitude&quot;,NORTH],AXIS[&quot;Longitude&quot;,EAST],AUTHORITY[&quot;EPSG&quot;,&quot;4326&quot;]]</dd><dt><span>semi_major_axis :</span></dt><dd>6378137.0</dd><dt><span>semi_minor_axis :</span></dt><dd>6356752.314245179</dd><dt><span>inverse_flattening :</span></dt><dd>298.257223563</dd><dt><span>reference_ellipsoid_name :</span></dt><dd>WGS 84</dd><dt><span>longitude_of_prime_meridian :</span></dt><dd>0.0</dd><dt><span>prime_meridian_name :</span></dt><dd>Greenwich</dd><dt><span>geographic_crs_name :</span></dt><dd>WGS 84</dd><dt><span>horizontal_datum_name :</span></dt><dd>World Geodetic System 1984</dd><dt><span>grid_mapping_name :</span></dt><dd>latitude_longitude</dd><dt><span>spatial_ref :</span></dt><dd>GEOGCS[&quot;WGS 84&quot;,DATUM[&quot;WGS_1984&quot;,SPHEROID[&quot;WGS 84&quot;,6378137,298.257223563]],PRIMEM[&quot;Greenwich&quot;,0],UNIT[&quot;degree&quot;,0.0174532925199433,AUTHORITY[&quot;EPSG&quot;,&quot;9122&quot;]],AXIS[&quot;Latitude&quot;,NORTH],AXIS[&quot;Longitude&quot;,EAST],AUTHORITY[&quot;EPSG&quot;,&quot;4326&quot;]]</dd><dt><span>GeoTransform :</span></dt><dd>-7.919999880450113 0.0999999897820609 0.0 33.27999953219765 0.0 -0.09999997992264598</dd></dl></div><div class='xr-var-data'><pre>array(0)</pre></div></li></ul></div></li><li class='xr-section-item'><input id='section-da20d7fb-ae73-49c0-84b5-6a4e073d9e94' class='xr-section-summary-in' type='checkbox'  checked><label for='section-da20d7fb-ae73-49c0-84b5-6a4e073d9e94' class='xr-section-summary' >Data variables: <span>(1)</span></label><div class='xr-section-inline-details'></div><div class='xr-section-details'><ul class='xr-var-list'><li class='xr-var-item'><div class='xr-var-name'><span>smlt</span></div><div class='xr-var-dims'>(time, latitude, longitude)</div><div class='xr-var-dtype'>float32</div><div class='xr-var-preview xr-preview'>nan nan nan nan ... nan nan nan nan</div><input id='attrs-a6b6eaea-1ee7-4ab1-b820-16af0a81ff7b' class='xr-var-attrs-in' type='checkbox' ><label for='attrs-a6b6eaea-1ee7-4ab1-b820-16af0a81ff7b' title='Show/Hide attributes'><svg class='icon xr-icon-file-text2'><use xlink:href='#icon-file-text2'></use></svg></label><input id='data-a397c1a1-be0f-4f8c-bfca-efe835c86928' class='xr-var-data-in' type='checkbox'><label for='data-a397c1a1-be0f-4f8c-bfca-efe835c86928' title='Show/Hide data repr'><svg class='icon xr-icon-database'><use xlink:href='#icon-database'></use></svg></label><div class='xr-var-attrs'><dl class='xr-attrs'><dt><span>units :</span></dt><dd>m of water equivalent</dd><dt><span>long_name :</span></dt><dd>Snowmelt</dd></dl></div><div class='xr-var-data'><pre>array([[[           nan,            nan,            nan, ...,\n",
       "         -4.6566129e-10, -4.6566129e-10,            nan],\n",
       "        [           nan,            nan,            nan, ...,\n",
       "         -4.6566129e-10, -4.6566129e-10, -4.6566129e-10],\n",
       "        [           nan,            nan,            nan, ...,\n",
       "         -4.6566129e-10,  1.4528632e-07, -4.6566129e-10],\n",
       "        ...,\n",
       "        [           nan,            nan,            nan, ...,\n",
       "                    nan,            nan,            nan],\n",
       "        [           nan,            nan,            nan, ...,\n",
       "                    nan,            nan,            nan],\n",
       "        [           nan,            nan,            nan, ...,\n",
       "                    nan,            nan,            nan]],\n",
       "\n",
       "       [[           nan,            nan,            nan, ...,\n",
       "         -4.6566129e-10, -4.6566129e-10,            nan],\n",
       "        [           nan,            nan,            nan, ...,\n",
       "         -4.6566129e-10, -4.6566129e-10, -4.6566129e-10],\n",
       "        [           nan,            nan,            nan, ...,\n",
       "         -4.6566129e-10, -4.6566129e-10, -4.6566129e-10],\n",
       "...\n",
       "        [           nan,            nan,            nan, ...,\n",
       "                    nan,            nan,            nan],\n",
       "        [           nan,            nan,            nan, ...,\n",
       "                    nan,            nan,            nan],\n",
       "        [           nan,            nan,            nan, ...,\n",
       "                    nan,            nan,            nan]],\n",
       "\n",
       "       [[           nan,            nan,            nan, ...,\n",
       "         -4.6566129e-10,  1.4528632e-07,            nan],\n",
       "        [           nan,            nan,            nan, ...,\n",
       "         -4.6566129e-10,  1.4528632e-07,  1.4528632e-07],\n",
       "        [           nan,            nan,            nan, ...,\n",
       "         -4.6566129e-10, -4.6566129e-10, -4.6566129e-10],\n",
       "        ...,\n",
       "        [           nan,            nan,            nan, ...,\n",
       "                    nan,            nan,            nan],\n",
       "        [           nan,            nan,            nan, ...,\n",
       "                    nan,            nan,            nan],\n",
       "        [           nan,            nan,            nan, ...,\n",
       "                    nan,            nan,            nan]]], dtype=float32)</pre></div></li></ul></div></li><li class='xr-section-item'><input id='section-df5451c2-e7a4-4561-88ea-b862aa08e8bf' class='xr-section-summary-in' type='checkbox'  ><label for='section-df5451c2-e7a4-4561-88ea-b862aa08e8bf' class='xr-section-summary' >Indexes: <span>(3)</span></label><div class='xr-section-inline-details'></div><div class='xr-section-details'><ul class='xr-var-list'><li class='xr-var-item'><div class='xr-index-name'><div>longitude</div></div><div class='xr-index-preview'>PandasIndex</div><div></div><input id='index-1b7bf867-b188-48f2-bf39-c390e545cfa7' class='xr-index-data-in' type='checkbox'/><label for='index-1b7bf867-b188-48f2-bf39-c390e545cfa7' title='Show/Hide index repr'><svg class='icon xr-icon-database'><use xlink:href='#icon-database'></use></svg></label><div class='xr-index-data'><pre>PandasIndex(Index([-7.869999885559082, -7.769999980926514, -7.670000076293945,\n",
       "       -7.570000171661377,  -7.46999979019165, -7.369999885559082,\n",
       "       -7.269999980926514, -7.170000076293945, -7.070000171661377,\n",
       "        -6.96999979019165, -6.869999885559082, -6.769999980926514,\n",
       "       -6.670000076293945, -6.570000171661377,  -6.46999979019165,\n",
       "       -6.369999885559082, -6.269999980926514, -6.170000076293945,\n",
       "       -6.070000171661377,  -5.96999979019165, -5.869999885559082,\n",
       "       -5.769999980926514, -5.670000076293945, -5.570000171661377,\n",
       "        -5.46999979019165, -5.369999885559082, -5.269999980926514,\n",
       "       -5.170000076293945, -5.070000171661377],\n",
       "      dtype=&#x27;float32&#x27;, name=&#x27;longitude&#x27;))</pre></div></li><li class='xr-var-item'><div class='xr-index-name'><div>latitude</div></div><div class='xr-index-preview'>PandasIndex</div><div></div><input id='index-761c39ec-7dde-4de0-840f-09a8311f26f7' class='xr-index-data-in' type='checkbox'/><label for='index-761c39ec-7dde-4de0-840f-09a8311f26f7' title='Show/Hide index repr'><svg class='icon xr-icon-database'><use xlink:href='#icon-database'></use></svg></label><div class='xr-index-data'><pre>PandasIndex(Index([ 33.22999954223633, 33.130001068115234, 33.029998779296875,\n",
       "        32.93000030517578,  32.83000183105469,  32.72999954223633,\n",
       "       32.630001068115234, 32.529998779296875,  32.43000030517578,\n",
       "        32.33000183105469,  32.22999954223633, 32.130001068115234,\n",
       "       32.029998779296875,  31.93000030517578, 31.829999923706055,\n",
       "       31.729999542236328,   31.6299991607666, 31.530000686645508,\n",
       "        31.43000030517578, 31.329999923706055],\n",
       "      dtype=&#x27;float32&#x27;, name=&#x27;latitude&#x27;))</pre></div></li><li class='xr-var-item'><div class='xr-index-name'><div>time</div></div><div class='xr-index-preview'>PandasIndex</div><div></div><input id='index-d72b1384-6992-4994-8060-e9f1d31c30ce' class='xr-index-data-in' type='checkbox'/><label for='index-d72b1384-6992-4994-8060-e9f1d31c30ce' title='Show/Hide index repr'><svg class='icon xr-icon-database'><use xlink:href='#icon-database'></use></svg></label><div class='xr-index-data'><pre>PandasIndex(DatetimeIndex([&#x27;2002-01-01 12:00:00&#x27;, &#x27;2002-01-02 12:00:00&#x27;,\n",
       "               &#x27;2002-01-03 12:00:00&#x27;, &#x27;2002-01-04 12:00:00&#x27;,\n",
       "               &#x27;2002-01-05 12:00:00&#x27;, &#x27;2002-01-06 12:00:00&#x27;,\n",
       "               &#x27;2002-01-07 12:00:00&#x27;, &#x27;2002-01-08 12:00:00&#x27;,\n",
       "               &#x27;2002-01-09 12:00:00&#x27;, &#x27;2002-01-10 12:00:00&#x27;,\n",
       "               ...\n",
       "               &#x27;2022-12-22 12:00:00&#x27;, &#x27;2022-12-23 12:00:00&#x27;,\n",
       "               &#x27;2022-12-24 12:00:00&#x27;, &#x27;2022-12-25 12:00:00&#x27;,\n",
       "               &#x27;2022-12-26 12:00:00&#x27;, &#x27;2022-12-27 12:00:00&#x27;,\n",
       "               &#x27;2022-12-28 12:00:00&#x27;, &#x27;2022-12-29 12:00:00&#x27;,\n",
       "               &#x27;2022-12-30 12:00:00&#x27;, &#x27;2022-12-31 12:00:00&#x27;],\n",
       "              dtype=&#x27;datetime64[ns]&#x27;, name=&#x27;time&#x27;, length=7670, freq=None))</pre></div></li></ul></div></li><li class='xr-section-item'><input id='section-bb18818e-6cb9-4443-8333-b5f1dea66204' class='xr-section-summary-in' type='checkbox'  checked><label for='section-bb18818e-6cb9-4443-8333-b5f1dea66204' class='xr-section-summary' >Attributes: <span>(2)</span></label><div class='xr-section-inline-details'></div><div class='xr-section-details'><dl class='xr-attrs'><dt><span>Conventions :</span></dt><dd>CF-1.6</dd><dt><span>history :</span></dt><dd>2023-05-30 12:39:23 GMT by grib_to_netcdf-2.24.0: /opt/ecmwf/eccodes/bin/grib_to_netcdf -S param -o /cache/tmp/c83e1a62-c413-4c04-b140-f03feb24682d-adaptor.mars.internal-1685450332.8176444-4436-37-tmp.nc /cache/tmp/c83e1a62-c413-4c04-b140-f03feb24682d-adaptor.mars.internal-1685448779.808647-4436-35-tmp.grib</dd></dl></div></li></ul></div></div>"
      ],
      "text/plain": [
       "<xarray.Dataset>\n",
       "Dimensions:      (longitude: 29, latitude: 20, time: 7670)\n",
       "Coordinates:\n",
       "  * longitude    (longitude) float32 -7.87 -7.77 -7.67 ... -5.27 -5.17 -5.07\n",
       "  * latitude     (latitude) float32 33.23 33.13 33.03 ... 31.53 31.43 31.33\n",
       "  * time         (time) datetime64[ns] 2002-01-01T12:00:00 ... 2022-12-31T12:...\n",
       "    spatial_ref  int64 0\n",
       "Data variables:\n",
       "    smlt         (time, latitude, longitude) float32 nan nan nan ... nan nan nan\n",
       "Attributes:\n",
       "    Conventions:  CF-1.6\n",
       "    history:      2023-05-30 12:39:23 GMT by grib_to_netcdf-2.24.0: /opt/ecmw..."
      ]
     },
     "execution_count": 64,
     "metadata": {},
     "output_type": "execute_result"
    }
   ],
   "source": [
    "nc_clipped_file"
   ]
  },
  {
   "cell_type": "markdown",
   "id": "86fa50fb",
   "metadata": {},
   "source": [
    "# Handle NAN values (getting after netcdf clipping)"
   ]
  },
  {
   "cell_type": "markdown",
   "id": "0d0b30e2",
   "metadata": {},
   "source": [
    "nan values are diffecult to remove in case of netcdf file , so as a solution we can replace nan values\n",
    "with other cammon value sach as 999999 \n",
    "    "
   ]
  },
  {
   "cell_type": "code",
   "execution_count": 71,
   "id": "6e47a2ab",
   "metadata": {},
   "outputs": [],
   "source": [
    "nc_clipped_file = clipped_nc"
   ]
  },
  {
   "cell_type": "code",
   "execution_count": 72,
   "id": "717fe9e8",
   "metadata": {},
   "outputs": [],
   "source": [
    "xr_data = xr.Dataset(clipped_nc)"
   ]
  },
  {
   "cell_type": "code",
   "execution_count": 73,
   "id": "6e547556",
   "metadata": {},
   "outputs": [],
   "source": [
    "import numpy as np\n",
    "import xarray as xr\n",
    "\n",
    "# xr_data = xr_data.dropna(dim=\"latitude\",subset=['tp'])\n",
    "xr_data = xr_data.fillna(999999)\n",
    "\n"
   ]
  },
  {
   "cell_type": "code",
   "execution_count": 74,
   "id": "d2c03ce6",
   "metadata": {},
   "outputs": [
    {
     "data": {
      "text/html": [
       "<div><svg style=\"position: absolute; width: 0; height: 0; overflow: hidden\">\n",
       "<defs>\n",
       "<symbol id=\"icon-database\" viewBox=\"0 0 32 32\">\n",
       "<path d=\"M16 0c-8.837 0-16 2.239-16 5v4c0 2.761 7.163 5 16 5s16-2.239 16-5v-4c0-2.761-7.163-5-16-5z\"></path>\n",
       "<path d=\"M16 17c-8.837 0-16-2.239-16-5v6c0 2.761 7.163 5 16 5s16-2.239 16-5v-6c0 2.761-7.163 5-16 5z\"></path>\n",
       "<path d=\"M16 26c-8.837 0-16-2.239-16-5v6c0 2.761 7.163 5 16 5s16-2.239 16-5v-6c0 2.761-7.163 5-16 5z\"></path>\n",
       "</symbol>\n",
       "<symbol id=\"icon-file-text2\" viewBox=\"0 0 32 32\">\n",
       "<path d=\"M28.681 7.159c-0.694-0.947-1.662-2.053-2.724-3.116s-2.169-2.030-3.116-2.724c-1.612-1.182-2.393-1.319-2.841-1.319h-15.5c-1.378 0-2.5 1.121-2.5 2.5v27c0 1.378 1.122 2.5 2.5 2.5h23c1.378 0 2.5-1.122 2.5-2.5v-19.5c0-0.448-0.137-1.23-1.319-2.841zM24.543 5.457c0.959 0.959 1.712 1.825 2.268 2.543h-4.811v-4.811c0.718 0.556 1.584 1.309 2.543 2.268zM28 29.5c0 0.271-0.229 0.5-0.5 0.5h-23c-0.271 0-0.5-0.229-0.5-0.5v-27c0-0.271 0.229-0.5 0.5-0.5 0 0 15.499-0 15.5 0v7c0 0.552 0.448 1 1 1h7v19.5z\"></path>\n",
       "<path d=\"M23 26h-14c-0.552 0-1-0.448-1-1s0.448-1 1-1h14c0.552 0 1 0.448 1 1s-0.448 1-1 1z\"></path>\n",
       "<path d=\"M23 22h-14c-0.552 0-1-0.448-1-1s0.448-1 1-1h14c0.552 0 1 0.448 1 1s-0.448 1-1 1z\"></path>\n",
       "<path d=\"M23 18h-14c-0.552 0-1-0.448-1-1s0.448-1 1-1h14c0.552 0 1 0.448 1 1s-0.448 1-1 1z\"></path>\n",
       "</symbol>\n",
       "</defs>\n",
       "</svg>\n",
       "<style>/* CSS stylesheet for displaying xarray objects in jupyterlab.\n",
       " *\n",
       " */\n",
       "\n",
       ":root {\n",
       "  --xr-font-color0: var(--jp-content-font-color0, rgba(0, 0, 0, 1));\n",
       "  --xr-font-color2: var(--jp-content-font-color2, rgba(0, 0, 0, 0.54));\n",
       "  --xr-font-color3: var(--jp-content-font-color3, rgba(0, 0, 0, 0.38));\n",
       "  --xr-border-color: var(--jp-border-color2, #e0e0e0);\n",
       "  --xr-disabled-color: var(--jp-layout-color3, #bdbdbd);\n",
       "  --xr-background-color: var(--jp-layout-color0, white);\n",
       "  --xr-background-color-row-even: var(--jp-layout-color1, white);\n",
       "  --xr-background-color-row-odd: var(--jp-layout-color2, #eeeeee);\n",
       "}\n",
       "\n",
       "html[theme=dark],\n",
       "body[data-theme=dark],\n",
       "body.vscode-dark {\n",
       "  --xr-font-color0: rgba(255, 255, 255, 1);\n",
       "  --xr-font-color2: rgba(255, 255, 255, 0.54);\n",
       "  --xr-font-color3: rgba(255, 255, 255, 0.38);\n",
       "  --xr-border-color: #1F1F1F;\n",
       "  --xr-disabled-color: #515151;\n",
       "  --xr-background-color: #111111;\n",
       "  --xr-background-color-row-even: #111111;\n",
       "  --xr-background-color-row-odd: #313131;\n",
       "}\n",
       "\n",
       ".xr-wrap {\n",
       "  display: block !important;\n",
       "  min-width: 300px;\n",
       "  max-width: 700px;\n",
       "}\n",
       "\n",
       ".xr-text-repr-fallback {\n",
       "  /* fallback to plain text repr when CSS is not injected (untrusted notebook) */\n",
       "  display: none;\n",
       "}\n",
       "\n",
       ".xr-header {\n",
       "  padding-top: 6px;\n",
       "  padding-bottom: 6px;\n",
       "  margin-bottom: 4px;\n",
       "  border-bottom: solid 1px var(--xr-border-color);\n",
       "}\n",
       "\n",
       ".xr-header > div,\n",
       ".xr-header > ul {\n",
       "  display: inline;\n",
       "  margin-top: 0;\n",
       "  margin-bottom: 0;\n",
       "}\n",
       "\n",
       ".xr-obj-type,\n",
       ".xr-array-name {\n",
       "  margin-left: 2px;\n",
       "  margin-right: 10px;\n",
       "}\n",
       "\n",
       ".xr-obj-type {\n",
       "  color: var(--xr-font-color2);\n",
       "}\n",
       "\n",
       ".xr-sections {\n",
       "  padding-left: 0 !important;\n",
       "  display: grid;\n",
       "  grid-template-columns: 150px auto auto 1fr 20px 20px;\n",
       "}\n",
       "\n",
       ".xr-section-item {\n",
       "  display: contents;\n",
       "}\n",
       "\n",
       ".xr-section-item input {\n",
       "  display: none;\n",
       "}\n",
       "\n",
       ".xr-section-item input + label {\n",
       "  color: var(--xr-disabled-color);\n",
       "}\n",
       "\n",
       ".xr-section-item input:enabled + label {\n",
       "  cursor: pointer;\n",
       "  color: var(--xr-font-color2);\n",
       "}\n",
       "\n",
       ".xr-section-item input:enabled + label:hover {\n",
       "  color: var(--xr-font-color0);\n",
       "}\n",
       "\n",
       ".xr-section-summary {\n",
       "  grid-column: 1;\n",
       "  color: var(--xr-font-color2);\n",
       "  font-weight: 500;\n",
       "}\n",
       "\n",
       ".xr-section-summary > span {\n",
       "  display: inline-block;\n",
       "  padding-left: 0.5em;\n",
       "}\n",
       "\n",
       ".xr-section-summary-in:disabled + label {\n",
       "  color: var(--xr-font-color2);\n",
       "}\n",
       "\n",
       ".xr-section-summary-in + label:before {\n",
       "  display: inline-block;\n",
       "  content: '►';\n",
       "  font-size: 11px;\n",
       "  width: 15px;\n",
       "  text-align: center;\n",
       "}\n",
       "\n",
       ".xr-section-summary-in:disabled + label:before {\n",
       "  color: var(--xr-disabled-color);\n",
       "}\n",
       "\n",
       ".xr-section-summary-in:checked + label:before {\n",
       "  content: '▼';\n",
       "}\n",
       "\n",
       ".xr-section-summary-in:checked + label > span {\n",
       "  display: none;\n",
       "}\n",
       "\n",
       ".xr-section-summary,\n",
       ".xr-section-inline-details {\n",
       "  padding-top: 4px;\n",
       "  padding-bottom: 4px;\n",
       "}\n",
       "\n",
       ".xr-section-inline-details {\n",
       "  grid-column: 2 / -1;\n",
       "}\n",
       "\n",
       ".xr-section-details {\n",
       "  display: none;\n",
       "  grid-column: 1 / -1;\n",
       "  margin-bottom: 5px;\n",
       "}\n",
       "\n",
       ".xr-section-summary-in:checked ~ .xr-section-details {\n",
       "  display: contents;\n",
       "}\n",
       "\n",
       ".xr-array-wrap {\n",
       "  grid-column: 1 / -1;\n",
       "  display: grid;\n",
       "  grid-template-columns: 20px auto;\n",
       "}\n",
       "\n",
       ".xr-array-wrap > label {\n",
       "  grid-column: 1;\n",
       "  vertical-align: top;\n",
       "}\n",
       "\n",
       ".xr-preview {\n",
       "  color: var(--xr-font-color3);\n",
       "}\n",
       "\n",
       ".xr-array-preview,\n",
       ".xr-array-data {\n",
       "  padding: 0 5px !important;\n",
       "  grid-column: 2;\n",
       "}\n",
       "\n",
       ".xr-array-data,\n",
       ".xr-array-in:checked ~ .xr-array-preview {\n",
       "  display: none;\n",
       "}\n",
       "\n",
       ".xr-array-in:checked ~ .xr-array-data,\n",
       ".xr-array-preview {\n",
       "  display: inline-block;\n",
       "}\n",
       "\n",
       ".xr-dim-list {\n",
       "  display: inline-block !important;\n",
       "  list-style: none;\n",
       "  padding: 0 !important;\n",
       "  margin: 0;\n",
       "}\n",
       "\n",
       ".xr-dim-list li {\n",
       "  display: inline-block;\n",
       "  padding: 0;\n",
       "  margin: 0;\n",
       "}\n",
       "\n",
       ".xr-dim-list:before {\n",
       "  content: '(';\n",
       "}\n",
       "\n",
       ".xr-dim-list:after {\n",
       "  content: ')';\n",
       "}\n",
       "\n",
       ".xr-dim-list li:not(:last-child):after {\n",
       "  content: ',';\n",
       "  padding-right: 5px;\n",
       "}\n",
       "\n",
       ".xr-has-index {\n",
       "  font-weight: bold;\n",
       "}\n",
       "\n",
       ".xr-var-list,\n",
       ".xr-var-item {\n",
       "  display: contents;\n",
       "}\n",
       "\n",
       ".xr-var-item > div,\n",
       ".xr-var-item label,\n",
       ".xr-var-item > .xr-var-name span {\n",
       "  background-color: var(--xr-background-color-row-even);\n",
       "  margin-bottom: 0;\n",
       "}\n",
       "\n",
       ".xr-var-item > .xr-var-name:hover span {\n",
       "  padding-right: 5px;\n",
       "}\n",
       "\n",
       ".xr-var-list > li:nth-child(odd) > div,\n",
       ".xr-var-list > li:nth-child(odd) > label,\n",
       ".xr-var-list > li:nth-child(odd) > .xr-var-name span {\n",
       "  background-color: var(--xr-background-color-row-odd);\n",
       "}\n",
       "\n",
       ".xr-var-name {\n",
       "  grid-column: 1;\n",
       "}\n",
       "\n",
       ".xr-var-dims {\n",
       "  grid-column: 2;\n",
       "}\n",
       "\n",
       ".xr-var-dtype {\n",
       "  grid-column: 3;\n",
       "  text-align: right;\n",
       "  color: var(--xr-font-color2);\n",
       "}\n",
       "\n",
       ".xr-var-preview {\n",
       "  grid-column: 4;\n",
       "}\n",
       "\n",
       ".xr-index-preview {\n",
       "  grid-column: 2 / 5;\n",
       "  color: var(--xr-font-color2);\n",
       "}\n",
       "\n",
       ".xr-var-name,\n",
       ".xr-var-dims,\n",
       ".xr-var-dtype,\n",
       ".xr-preview,\n",
       ".xr-attrs dt {\n",
       "  white-space: nowrap;\n",
       "  overflow: hidden;\n",
       "  text-overflow: ellipsis;\n",
       "  padding-right: 10px;\n",
       "}\n",
       "\n",
       ".xr-var-name:hover,\n",
       ".xr-var-dims:hover,\n",
       ".xr-var-dtype:hover,\n",
       ".xr-attrs dt:hover {\n",
       "  overflow: visible;\n",
       "  width: auto;\n",
       "  z-index: 1;\n",
       "}\n",
       "\n",
       ".xr-var-attrs,\n",
       ".xr-var-data,\n",
       ".xr-index-data {\n",
       "  display: none;\n",
       "  background-color: var(--xr-background-color) !important;\n",
       "  padding-bottom: 5px !important;\n",
       "}\n",
       "\n",
       ".xr-var-attrs-in:checked ~ .xr-var-attrs,\n",
       ".xr-var-data-in:checked ~ .xr-var-data,\n",
       ".xr-index-data-in:checked ~ .xr-index-data {\n",
       "  display: block;\n",
       "}\n",
       "\n",
       ".xr-var-data > table {\n",
       "  float: right;\n",
       "}\n",
       "\n",
       ".xr-var-name span,\n",
       ".xr-var-data,\n",
       ".xr-index-name div,\n",
       ".xr-index-data,\n",
       ".xr-attrs {\n",
       "  padding-left: 25px !important;\n",
       "}\n",
       "\n",
       ".xr-attrs,\n",
       ".xr-var-attrs,\n",
       ".xr-var-data,\n",
       ".xr-index-data {\n",
       "  grid-column: 1 / -1;\n",
       "}\n",
       "\n",
       "dl.xr-attrs {\n",
       "  padding: 0;\n",
       "  margin: 0;\n",
       "  display: grid;\n",
       "  grid-template-columns: 125px auto;\n",
       "}\n",
       "\n",
       ".xr-attrs dt,\n",
       ".xr-attrs dd {\n",
       "  padding: 0;\n",
       "  margin: 0;\n",
       "  float: left;\n",
       "  padding-right: 10px;\n",
       "  width: auto;\n",
       "}\n",
       "\n",
       ".xr-attrs dt {\n",
       "  font-weight: normal;\n",
       "  grid-column: 1;\n",
       "}\n",
       "\n",
       ".xr-attrs dt:hover span {\n",
       "  display: inline-block;\n",
       "  background: var(--xr-background-color);\n",
       "  padding-right: 10px;\n",
       "}\n",
       "\n",
       ".xr-attrs dd {\n",
       "  grid-column: 2;\n",
       "  white-space: pre-wrap;\n",
       "  word-break: break-all;\n",
       "}\n",
       "\n",
       ".xr-icon-database,\n",
       ".xr-icon-file-text2,\n",
       ".xr-no-icon {\n",
       "  display: inline-block;\n",
       "  vertical-align: middle;\n",
       "  width: 1em;\n",
       "  height: 1.5em !important;\n",
       "  stroke-width: 0;\n",
       "  stroke: currentColor;\n",
       "  fill: currentColor;\n",
       "}\n",
       "</style><pre class='xr-text-repr-fallback'>&lt;xarray.Dataset&gt;\n",
       "Dimensions:      (time: 7670, latitude: 20, longitude: 29)\n",
       "Coordinates:\n",
       "  * longitude    (longitude) float32 -7.86 -7.76 -7.66 ... -5.26 -5.16 -5.06\n",
       "  * latitude     (latitude) float32 33.23 33.13 33.03 ... 31.53 31.43 31.33\n",
       "  * time         (time) datetime64[ns] 2002-01-01T12:00:00 ... 2022-12-31T12:...\n",
       "    spatial_ref  int64 0\n",
       "Data variables:\n",
       "    tp           (time, latitude, longitude) float64 1e+06 1e+06 ... 1e+06 1e+06</pre><div class='xr-wrap' style='display:none'><div class='xr-header'><div class='xr-obj-type'>xarray.Dataset</div></div><ul class='xr-sections'><li class='xr-section-item'><input id='section-fa1d422a-3d8b-4455-afed-ef5725c75409' class='xr-section-summary-in' type='checkbox' disabled ><label for='section-fa1d422a-3d8b-4455-afed-ef5725c75409' class='xr-section-summary'  title='Expand/collapse section'>Dimensions:</label><div class='xr-section-inline-details'><ul class='xr-dim-list'><li><span class='xr-has-index'>time</span>: 7670</li><li><span class='xr-has-index'>latitude</span>: 20</li><li><span class='xr-has-index'>longitude</span>: 29</li></ul></div><div class='xr-section-details'></div></li><li class='xr-section-item'><input id='section-e1b4b333-17ea-4a3b-8790-064b909935db' class='xr-section-summary-in' type='checkbox'  checked><label for='section-e1b4b333-17ea-4a3b-8790-064b909935db' class='xr-section-summary' >Coordinates: <span>(4)</span></label><div class='xr-section-inline-details'></div><div class='xr-section-details'><ul class='xr-var-list'><li class='xr-var-item'><div class='xr-var-name'><span class='xr-has-index'>longitude</span></div><div class='xr-var-dims'>(longitude)</div><div class='xr-var-dtype'>float32</div><div class='xr-var-preview xr-preview'>-7.86 -7.76 -7.66 ... -5.16 -5.06</div><input id='attrs-8d586f00-0a46-48bc-9ce3-0297c15f8c09' class='xr-var-attrs-in' type='checkbox' ><label for='attrs-8d586f00-0a46-48bc-9ce3-0297c15f8c09' title='Show/Hide attributes'><svg class='icon xr-icon-file-text2'><use xlink:href='#icon-file-text2'></use></svg></label><input id='data-8f44b827-6b2c-4ce3-9109-4fcc9d78523b' class='xr-var-data-in' type='checkbox'><label for='data-8f44b827-6b2c-4ce3-9109-4fcc9d78523b' title='Show/Hide data repr'><svg class='icon xr-icon-database'><use xlink:href='#icon-database'></use></svg></label><div class='xr-var-attrs'><dl class='xr-attrs'><dt><span>units :</span></dt><dd>degrees_east</dd><dt><span>long_name :</span></dt><dd>longitude</dd><dt><span>axis :</span></dt><dd>X</dd><dt><span>standard_name :</span></dt><dd>longitude</dd></dl></div><div class='xr-var-data'><pre>array([-7.86, -7.76, -7.66, -7.56, -7.46, -7.36, -7.26, -7.16, -7.06, -6.96,\n",
       "       -6.86, -6.76, -6.66, -6.56, -6.46, -6.36, -6.26, -6.16, -6.06, -5.96,\n",
       "       -5.86, -5.76, -5.66, -5.56, -5.46, -5.36, -5.26, -5.16, -5.06],\n",
       "      dtype=float32)</pre></div></li><li class='xr-var-item'><div class='xr-var-name'><span class='xr-has-index'>latitude</span></div><div class='xr-var-dims'>(latitude)</div><div class='xr-var-dtype'>float32</div><div class='xr-var-preview xr-preview'>33.23 33.13 33.03 ... 31.43 31.33</div><input id='attrs-fd46d401-644b-47b7-8ec0-4d48da9fe19c' class='xr-var-attrs-in' type='checkbox' ><label for='attrs-fd46d401-644b-47b7-8ec0-4d48da9fe19c' title='Show/Hide attributes'><svg class='icon xr-icon-file-text2'><use xlink:href='#icon-file-text2'></use></svg></label><input id='data-ca19814c-270b-461b-bc80-cf6a0eb81ec1' class='xr-var-data-in' type='checkbox'><label for='data-ca19814c-270b-461b-bc80-cf6a0eb81ec1' title='Show/Hide data repr'><svg class='icon xr-icon-database'><use xlink:href='#icon-database'></use></svg></label><div class='xr-var-attrs'><dl class='xr-attrs'><dt><span>units :</span></dt><dd>degrees_north</dd><dt><span>long_name :</span></dt><dd>latitude</dd><dt><span>axis :</span></dt><dd>Y</dd><dt><span>standard_name :</span></dt><dd>latitude</dd></dl></div><div class='xr-var-data'><pre>array([33.23, 33.13, 33.03, 32.93, 32.83, 32.73, 32.63, 32.53, 32.43, 32.33,\n",
       "       32.23, 32.13, 32.03, 31.93, 31.83, 31.73, 31.63, 31.53, 31.43, 31.33],\n",
       "      dtype=float32)</pre></div></li><li class='xr-var-item'><div class='xr-var-name'><span class='xr-has-index'>time</span></div><div class='xr-var-dims'>(time)</div><div class='xr-var-dtype'>datetime64[ns]</div><div class='xr-var-preview xr-preview'>2002-01-01T12:00:00 ... 2022-12-...</div><input id='attrs-cb1e0258-ee3e-4953-bed2-ff259ae6fbaa' class='xr-var-attrs-in' type='checkbox' ><label for='attrs-cb1e0258-ee3e-4953-bed2-ff259ae6fbaa' title='Show/Hide attributes'><svg class='icon xr-icon-file-text2'><use xlink:href='#icon-file-text2'></use></svg></label><input id='data-1e769b64-f2d8-40d8-99db-d6ff88a9dbc0' class='xr-var-data-in' type='checkbox'><label for='data-1e769b64-f2d8-40d8-99db-d6ff88a9dbc0' title='Show/Hide data repr'><svg class='icon xr-icon-database'><use xlink:href='#icon-database'></use></svg></label><div class='xr-var-attrs'><dl class='xr-attrs'><dt><span>long_name :</span></dt><dd>time</dd></dl></div><div class='xr-var-data'><pre>array([&#x27;2002-01-01T12:00:00.000000000&#x27;, &#x27;2002-01-02T12:00:00.000000000&#x27;,\n",
       "       &#x27;2002-01-03T12:00:00.000000000&#x27;, ..., &#x27;2022-12-29T12:00:00.000000000&#x27;,\n",
       "       &#x27;2022-12-30T12:00:00.000000000&#x27;, &#x27;2022-12-31T12:00:00.000000000&#x27;],\n",
       "      dtype=&#x27;datetime64[ns]&#x27;)</pre></div></li><li class='xr-var-item'><div class='xr-var-name'><span>spatial_ref</span></div><div class='xr-var-dims'>()</div><div class='xr-var-dtype'>int64</div><div class='xr-var-preview xr-preview'>0</div><input id='attrs-627e0e4e-a9b3-4b5e-9437-cde5af4c98e3' class='xr-var-attrs-in' type='checkbox' ><label for='attrs-627e0e4e-a9b3-4b5e-9437-cde5af4c98e3' title='Show/Hide attributes'><svg class='icon xr-icon-file-text2'><use xlink:href='#icon-file-text2'></use></svg></label><input id='data-e369477a-1fbb-434d-a5a8-b7cdfbf480b2' class='xr-var-data-in' type='checkbox'><label for='data-e369477a-1fbb-434d-a5a8-b7cdfbf480b2' title='Show/Hide data repr'><svg class='icon xr-icon-database'><use xlink:href='#icon-database'></use></svg></label><div class='xr-var-attrs'><dl class='xr-attrs'><dt><span>crs_wkt :</span></dt><dd>GEOGCS[&quot;WGS 84&quot;,DATUM[&quot;WGS_1984&quot;,SPHEROID[&quot;WGS 84&quot;,6378137,298.257223563]],PRIMEM[&quot;Greenwich&quot;,0],UNIT[&quot;degree&quot;,0.0174532925199433,AUTHORITY[&quot;EPSG&quot;,&quot;9122&quot;]],AXIS[&quot;Latitude&quot;,NORTH],AXIS[&quot;Longitude&quot;,EAST],AUTHORITY[&quot;EPSG&quot;,&quot;4326&quot;]]</dd><dt><span>semi_major_axis :</span></dt><dd>6378137.0</dd><dt><span>semi_minor_axis :</span></dt><dd>6356752.314245179</dd><dt><span>inverse_flattening :</span></dt><dd>298.257223563</dd><dt><span>reference_ellipsoid_name :</span></dt><dd>WGS 84</dd><dt><span>longitude_of_prime_meridian :</span></dt><dd>0.0</dd><dt><span>prime_meridian_name :</span></dt><dd>Greenwich</dd><dt><span>geographic_crs_name :</span></dt><dd>WGS 84</dd><dt><span>horizontal_datum_name :</span></dt><dd>World Geodetic System 1984</dd><dt><span>grid_mapping_name :</span></dt><dd>latitude_longitude</dd><dt><span>spatial_ref :</span></dt><dd>GEOGCS[&quot;WGS 84&quot;,DATUM[&quot;WGS_1984&quot;,SPHEROID[&quot;WGS 84&quot;,6378137,298.257223563]],PRIMEM[&quot;Greenwich&quot;,0],UNIT[&quot;degree&quot;,0.0174532925199433,AUTHORITY[&quot;EPSG&quot;,&quot;9122&quot;]],AXIS[&quot;Latitude&quot;,NORTH],AXIS[&quot;Longitude&quot;,EAST],AUTHORITY[&quot;EPSG&quot;,&quot;4326&quot;]]</dd><dt><span>GeoTransform :</span></dt><dd>-7.910000136920384 0.1000000068119594 0.0 33.27999953219765 0.0 -0.09999997992264598</dd></dl></div><div class='xr-var-data'><pre>array(0)</pre></div></li></ul></div></li><li class='xr-section-item'><input id='section-32ad5c8a-56f1-46ac-876d-2a586400c651' class='xr-section-summary-in' type='checkbox'  checked><label for='section-32ad5c8a-56f1-46ac-876d-2a586400c651' class='xr-section-summary' >Data variables: <span>(1)</span></label><div class='xr-section-inline-details'></div><div class='xr-section-details'><ul class='xr-var-list'><li class='xr-var-item'><div class='xr-var-name'><span>tp</span></div><div class='xr-var-dims'>(time, latitude, longitude)</div><div class='xr-var-dtype'>float64</div><div class='xr-var-preview xr-preview'>1e+06 1e+06 1e+06 ... 1e+06 1e+06</div><input id='attrs-7e2fcfc5-8696-4316-961b-bed3890bda03' class='xr-var-attrs-in' type='checkbox' ><label for='attrs-7e2fcfc5-8696-4316-961b-bed3890bda03' title='Show/Hide attributes'><svg class='icon xr-icon-file-text2'><use xlink:href='#icon-file-text2'></use></svg></label><input id='data-68b59e9b-4474-45e5-8b47-69d713d24617' class='xr-var-data-in' type='checkbox'><label for='data-68b59e9b-4474-45e5-8b47-69d713d24617' title='Show/Hide data repr'><svg class='icon xr-icon-database'><use xlink:href='#icon-database'></use></svg></label><div class='xr-var-attrs'><dl class='xr-attrs'><dt><span>units :</span></dt><dd>m</dd><dt><span>long_name :</span></dt><dd>Total precipitation</dd></dl></div><div class='xr-var-data'><pre>array([[[9.99999000e+05, 9.99999000e+05, 9.99999000e+05, ...,\n",
       "         3.18663195e-04, 4.29460779e-04, 9.99999000e+05],\n",
       "        [9.99999000e+05, 9.99999000e+05, 9.99999000e+05, ...,\n",
       "         2.73793936e-04, 3.81845981e-04, 4.34039161e-04],\n",
       "        [9.99999000e+05, 9.99999000e+05, 9.99999000e+05, ...,\n",
       "         2.28008255e-04, 3.15915793e-04, 3.63530591e-04],\n",
       "        ...,\n",
       "        [9.99999000e+05, 9.99999000e+05, 9.99999000e+05, ...,\n",
       "         9.99999000e+05, 9.99999000e+05, 9.99999000e+05],\n",
       "        [9.99999000e+05, 9.99999000e+05, 9.99999000e+05, ...,\n",
       "         9.99999000e+05, 9.99999000e+05, 9.99999000e+05],\n",
       "        [9.99999000e+05, 9.99999000e+05, 9.99999000e+05, ...,\n",
       "         9.99999000e+05, 9.99999000e+05, 9.99999000e+05]],\n",
       "\n",
       "       [[9.99999000e+05, 9.99999000e+05, 9.99999000e+05, ...,\n",
       "         0.00000000e+00, 0.00000000e+00, 9.99999000e+05],\n",
       "        [9.99999000e+05, 9.99999000e+05, 9.99999000e+05, ...,\n",
       "         0.00000000e+00, 0.00000000e+00, 0.00000000e+00],\n",
       "        [9.99999000e+05, 9.99999000e+05, 9.99999000e+05, ...,\n",
       "         0.00000000e+00, 0.00000000e+00, 0.00000000e+00],\n",
       "...\n",
       "        [9.99999000e+05, 9.99999000e+05, 9.99999000e+05, ...,\n",
       "         9.99999000e+05, 9.99999000e+05, 9.99999000e+05],\n",
       "        [9.99999000e+05, 9.99999000e+05, 9.99999000e+05, ...,\n",
       "         9.99999000e+05, 9.99999000e+05, 9.99999000e+05],\n",
       "        [9.99999000e+05, 9.99999000e+05, 9.99999000e+05, ...,\n",
       "         9.99999000e+05, 9.99999000e+05, 9.99999000e+05]],\n",
       "\n",
       "       [[9.99999000e+05, 9.99999000e+05, 9.99999000e+05, ...,\n",
       "         0.00000000e+00, 0.00000000e+00, 9.99999000e+05],\n",
       "        [9.99999000e+05, 9.99999000e+05, 9.99999000e+05, ...,\n",
       "         0.00000000e+00, 0.00000000e+00, 0.00000000e+00],\n",
       "        [9.99999000e+05, 9.99999000e+05, 9.99999000e+05, ...,\n",
       "         0.00000000e+00, 0.00000000e+00, 0.00000000e+00],\n",
       "        ...,\n",
       "        [9.99999000e+05, 9.99999000e+05, 9.99999000e+05, ...,\n",
       "         9.99999000e+05, 9.99999000e+05, 9.99999000e+05],\n",
       "        [9.99999000e+05, 9.99999000e+05, 9.99999000e+05, ...,\n",
       "         9.99999000e+05, 9.99999000e+05, 9.99999000e+05],\n",
       "        [9.99999000e+05, 9.99999000e+05, 9.99999000e+05, ...,\n",
       "         9.99999000e+05, 9.99999000e+05, 9.99999000e+05]]])</pre></div></li></ul></div></li><li class='xr-section-item'><input id='section-9196dfb5-b83c-46fa-a040-5d98749e90f8' class='xr-section-summary-in' type='checkbox'  ><label for='section-9196dfb5-b83c-46fa-a040-5d98749e90f8' class='xr-section-summary' >Indexes: <span>(3)</span></label><div class='xr-section-inline-details'></div><div class='xr-section-details'><ul class='xr-var-list'><li class='xr-var-item'><div class='xr-index-name'><div>longitude</div></div><div class='xr-index-preview'>PandasIndex</div><div></div><input id='index-9740eeb9-a7bc-456d-a236-53de939df74b' class='xr-index-data-in' type='checkbox'/><label for='index-9740eeb9-a7bc-456d-a236-53de939df74b' title='Show/Hide index repr'><svg class='icon xr-icon-database'><use xlink:href='#icon-database'></use></svg></label><div class='xr-index-data'><pre>PandasIndex(Index([-7.860000133514404, -7.760000228881836, -7.659999847412109,\n",
       "       -7.559999942779541, -7.460000038146973, -7.360000133514404,\n",
       "       -7.260000228881836, -7.159999847412109, -7.059999942779541,\n",
       "       -6.960000038146973, -6.860000133514404, -6.760000228881836,\n",
       "       -6.659999847412109, -6.559999942779541, -6.460000038146973,\n",
       "       -6.360000133514404, -6.260000228881836, -6.159999847412109,\n",
       "       -6.059999942779541, -5.960000038146973, -5.860000133514404,\n",
       "       -5.760000228881836, -5.659999847412109, -5.559999942779541,\n",
       "       -5.460000038146973, -5.360000133514404, -5.260000228881836,\n",
       "       -5.159999847412109, -5.059999942779541],\n",
       "      dtype=&#x27;float32&#x27;, name=&#x27;longitude&#x27;))</pre></div></li><li class='xr-var-item'><div class='xr-index-name'><div>latitude</div></div><div class='xr-index-preview'>PandasIndex</div><div></div><input id='index-49e11a11-d97d-42bd-804f-163cd677d5ca' class='xr-index-data-in' type='checkbox'/><label for='index-49e11a11-d97d-42bd-804f-163cd677d5ca' title='Show/Hide index repr'><svg class='icon xr-icon-database'><use xlink:href='#icon-database'></use></svg></label><div class='xr-index-data'><pre>PandasIndex(Index([ 33.22999954223633, 33.130001068115234, 33.029998779296875,\n",
       "        32.93000030517578,  32.83000183105469,  32.72999954223633,\n",
       "       32.630001068115234, 32.529998779296875,  32.43000030517578,\n",
       "        32.33000183105469,  32.22999954223633, 32.130001068115234,\n",
       "       32.029998779296875,  31.93000030517578, 31.829999923706055,\n",
       "       31.729999542236328,   31.6299991607666, 31.530000686645508,\n",
       "        31.43000030517578, 31.329999923706055],\n",
       "      dtype=&#x27;float32&#x27;, name=&#x27;latitude&#x27;))</pre></div></li><li class='xr-var-item'><div class='xr-index-name'><div>time</div></div><div class='xr-index-preview'>PandasIndex</div><div></div><input id='index-c39df91c-5929-4c75-a3fd-f3662c6ab3e6' class='xr-index-data-in' type='checkbox'/><label for='index-c39df91c-5929-4c75-a3fd-f3662c6ab3e6' title='Show/Hide index repr'><svg class='icon xr-icon-database'><use xlink:href='#icon-database'></use></svg></label><div class='xr-index-data'><pre>PandasIndex(DatetimeIndex([&#x27;2002-01-01 12:00:00&#x27;, &#x27;2002-01-02 12:00:00&#x27;,\n",
       "               &#x27;2002-01-03 12:00:00&#x27;, &#x27;2002-01-04 12:00:00&#x27;,\n",
       "               &#x27;2002-01-05 12:00:00&#x27;, &#x27;2002-01-06 12:00:00&#x27;,\n",
       "               &#x27;2002-01-07 12:00:00&#x27;, &#x27;2002-01-08 12:00:00&#x27;,\n",
       "               &#x27;2002-01-09 12:00:00&#x27;, &#x27;2002-01-10 12:00:00&#x27;,\n",
       "               ...\n",
       "               &#x27;2022-12-22 12:00:00&#x27;, &#x27;2022-12-23 12:00:00&#x27;,\n",
       "               &#x27;2022-12-24 12:00:00&#x27;, &#x27;2022-12-25 12:00:00&#x27;,\n",
       "               &#x27;2022-12-26 12:00:00&#x27;, &#x27;2022-12-27 12:00:00&#x27;,\n",
       "               &#x27;2022-12-28 12:00:00&#x27;, &#x27;2022-12-29 12:00:00&#x27;,\n",
       "               &#x27;2022-12-30 12:00:00&#x27;, &#x27;2022-12-31 12:00:00&#x27;],\n",
       "              dtype=&#x27;datetime64[ns]&#x27;, name=&#x27;time&#x27;, length=7670, freq=None))</pre></div></li></ul></div></li><li class='xr-section-item'><input id='section-72eec825-40e9-4fbc-b55a-82ff1bc01849' class='xr-section-summary-in' type='checkbox' disabled ><label for='section-72eec825-40e9-4fbc-b55a-82ff1bc01849' class='xr-section-summary'  title='Expand/collapse section'>Attributes: <span>(0)</span></label><div class='xr-section-inline-details'></div><div class='xr-section-details'><dl class='xr-attrs'></dl></div></li></ul></div></div>"
      ],
      "text/plain": [
       "<xarray.Dataset>\n",
       "Dimensions:      (time: 7670, latitude: 20, longitude: 29)\n",
       "Coordinates:\n",
       "  * longitude    (longitude) float32 -7.86 -7.76 -7.66 ... -5.26 -5.16 -5.06\n",
       "  * latitude     (latitude) float32 33.23 33.13 33.03 ... 31.53 31.43 31.33\n",
       "  * time         (time) datetime64[ns] 2002-01-01T12:00:00 ... 2022-12-31T12:...\n",
       "    spatial_ref  int64 0\n",
       "Data variables:\n",
       "    tp           (time, latitude, longitude) float64 1e+06 1e+06 ... 1e+06 1e+06"
      ]
     },
     "execution_count": 74,
     "metadata": {},
     "output_type": "execute_result"
    }
   ],
   "source": [
    "xr_data"
   ]
  },
  {
   "cell_type": "code",
   "execution_count": 70,
   "id": "8da69886",
   "metadata": {},
   "outputs": [
    {
     "data": {
      "text/html": [
       "<div>\n",
       "<style scoped>\n",
       "    .dataframe tbody tr th:only-of-type {\n",
       "        vertical-align: middle;\n",
       "    }\n",
       "\n",
       "    .dataframe tbody tr th {\n",
       "        vertical-align: top;\n",
       "    }\n",
       "\n",
       "    .dataframe thead th {\n",
       "        text-align: right;\n",
       "    }\n",
       "</style>\n",
       "<table border=\"1\" class=\"dataframe\">\n",
       "  <thead>\n",
       "    <tr style=\"text-align: right;\">\n",
       "      <th></th>\n",
       "      <th></th>\n",
       "      <th></th>\n",
       "      <th>tp</th>\n",
       "      <th>spatial_ref</th>\n",
       "    </tr>\n",
       "    <tr>\n",
       "      <th>time</th>\n",
       "      <th>latitude</th>\n",
       "      <th>longitude</th>\n",
       "      <th></th>\n",
       "      <th></th>\n",
       "    </tr>\n",
       "  </thead>\n",
       "  <tbody>\n",
       "    <tr>\n",
       "      <th rowspan=\"5\" valign=\"top\">2002-01-01 12:00:00</th>\n",
       "      <th rowspan=\"5\" valign=\"top\">33.23</th>\n",
       "      <th>-7.86</th>\n",
       "      <td>999999.0</td>\n",
       "      <td>0</td>\n",
       "    </tr>\n",
       "    <tr>\n",
       "      <th>-7.76</th>\n",
       "      <td>999999.0</td>\n",
       "      <td>0</td>\n",
       "    </tr>\n",
       "    <tr>\n",
       "      <th>-7.66</th>\n",
       "      <td>999999.0</td>\n",
       "      <td>0</td>\n",
       "    </tr>\n",
       "    <tr>\n",
       "      <th>-7.56</th>\n",
       "      <td>999999.0</td>\n",
       "      <td>0</td>\n",
       "    </tr>\n",
       "    <tr>\n",
       "      <th>-7.46</th>\n",
       "      <td>999999.0</td>\n",
       "      <td>0</td>\n",
       "    </tr>\n",
       "  </tbody>\n",
       "</table>\n",
       "</div>"
      ],
      "text/plain": [
       "                                              tp  spatial_ref\n",
       "time                latitude longitude                       \n",
       "2002-01-01 12:00:00 33.23    -7.86      999999.0            0\n",
       "                             -7.76      999999.0            0\n",
       "                             -7.66      999999.0            0\n",
       "                             -7.56      999999.0            0\n",
       "                             -7.46      999999.0            0"
      ]
     },
     "execution_count": 70,
     "metadata": {},
     "output_type": "execute_result"
    }
   ],
   "source": [
    "xr_data = xr_data.to_dataframe()\n",
    "xr_data.head()"
   ]
  },
  {
   "cell_type": "code",
   "execution_count": 56,
   "id": "eeefeab7",
   "metadata": {},
   "outputs": [],
   "source": [
    "# temperature = [\n",
    "#     [0, 4, 2, 9],\n",
    "#     [np.nan, np.nan, np.nan, np.nan],\n",
    "#     [np.nan, 4, 2, 0],\n",
    "#     [3, 1, 0, 0],\n",
    "# ]\n",
    "\n",
    "# da = xr.DataArray(\n",
    "#     data=temperature,\n",
    "#     dims=[\"Y\", \"X\"],\n",
    "#     coords=dict(\n",
    "#         lat=(\"Y\", np.array([-20.0, -20.25, -20.50, -20.75])),\n",
    "#         lon=(\"X\", np.array([10.0, 10.25, 10.5, 10.75])),\n",
    "#     ),\n",
    "# )\n",
    "\n",
    "# da"
   ]
  },
  {
   "cell_type": "code",
   "execution_count": 55,
   "id": "b356d898",
   "metadata": {},
   "outputs": [],
   "source": [
    "# da.dropna(dim=\"Y\", how=\"any\")"
   ]
  },
  {
   "cell_type": "code",
   "execution_count": 54,
   "id": "f1af3bfd",
   "metadata": {},
   "outputs": [],
   "source": [
    "# da.dropna(dim=\"X\", how=\"any\")"
   ]
  },
  {
   "cell_type": "code",
   "execution_count": null,
   "id": "ef51cbef",
   "metadata": {},
   "outputs": [],
   "source": []
  },
  {
   "cell_type": "markdown",
   "id": "4e449416",
   "metadata": {},
   "source": [
    "# Geopandas ----------"
   ]
  },
  {
   "cell_type": "code",
   "execution_count": null,
   "id": "14bb6447",
   "metadata": {},
   "outputs": [],
   "source": []
  }
 ],
 "metadata": {
  "kernelspec": {
   "display_name": "Python 3 (ipykernel)",
   "language": "python",
   "name": "python3"
  },
  "language_info": {
   "codemirror_mode": {
    "name": "ipython",
    "version": 3
   },
   "file_extension": ".py",
   "mimetype": "text/x-python",
   "name": "python",
   "nbconvert_exporter": "python",
   "pygments_lexer": "ipython3",
   "version": "3.10.6"
  }
 },
 "nbformat": 4,
 "nbformat_minor": 5
}
