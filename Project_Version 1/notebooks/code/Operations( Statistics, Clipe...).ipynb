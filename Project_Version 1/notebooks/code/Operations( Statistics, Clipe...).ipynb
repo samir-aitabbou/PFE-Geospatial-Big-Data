{
 "cells": [
  {
   "cell_type": "markdown",
   "id": "c69dc140",
   "metadata": {},
   "source": [
    "# Import Packages"
   ]
  },
  {
   "cell_type": "code",
   "execution_count": 1,
   "id": "66081ddb",
   "metadata": {},
   "outputs": [],
   "source": [
    "# Hide warnings if there are any\n",
    "import warnings\n",
    "warnings.filterwarnings('ignore')\n",
    "\n",
    "from pyspark.sql import SparkSession\n",
    "from pyspark import SparkConf\n",
    "from sparkxarray import reader\n",
    "import numpy as np\n",
    "import xarray as xr\n",
    "import dask\n",
    "from __future__ import print_function\n",
    "from glob import glob\n",
    "import pandas as pd\n",
    "%matplotlib inline\n",
    "import matplotlib\n",
    "matplotlib.style.use('ggplot')\n",
    "import matplotlib.pyplot as plt"
   ]
  },
  {
   "cell_type": "markdown",
   "id": "8080e64c",
   "metadata": {},
   "source": [
    "# Setup PySpark Session / Context"
   ]
  },
  {
   "cell_type": "code",
   "execution_count": 2,
   "id": "3479eec3",
   "metadata": {},
   "outputs": [
    {
     "name": "stderr",
     "output_type": "stream",
     "text": [
      "Setting default log level to \"WARN\".\n",
      "To adjust logging level use sc.setLogLevel(newLevel). For SparkR, use setLogLevel(newLevel).\n",
      "23/05/24 17:11:44 WARN NativeCodeLoader: Unable to load native-hadoop library for your platform... using builtin-java classes where applicable\n",
      "23/05/24 17:11:45 WARN Utils: Service 'SparkUI' could not bind on port 4040. Attempting port 4041.\n"
     ]
    }
   ],
   "source": [
    "spark_2 = SparkSession.builder \\\n",
    "    .appName('Operations') \\\n",
    "    .master(\"spark://spark-master:7077\") \\\n",
    "    .config(\"spark.driver.maxFrameSize\", \"100000000\") \\\n",
    "    .config(\"spark.executor.maxResultSize\", \"100000000\") \\\n",
    "    .config(\"spark.ui.showConsoleProgress\", \"true\") \\\n",
    "    .getOrCreate()"
   ]
  },
  {
   "cell_type": "code",
   "execution_count": 4,
   "id": "df1d36b4",
   "metadata": {},
   "outputs": [],
   "source": [
    "sc = spark_2.sparkContext"
   ]
  },
  {
   "cell_type": "code",
   "execution_count": 5,
   "id": "9e07cdbb",
   "metadata": {},
   "outputs": [],
   "source": [
    "_10m_u = \"/app/data/10m_u_component_of_wind_2002_2022.nc\"\n",
    "_10m_v = \"/app/data/10m_v_component_of_wind_2002_2022.nc\"\n",
    "_2m_t = \"/app/data/2m_temperature_2002_2022.nc\"\n",
    "snow_cover = \"/app/data/snow_cover_2002_2022.nc\"\n",
    "snow_density = \"/app/data/snow_density_2002_2022.nc\"\n",
    "snow_depth = \"/app/data/snow_depth_2002_2022.nc\"\n",
    "sdwe = \"/app/data/snow_depth_water_equivalent_2002_2022.nc\"\n",
    "snowfall=  \"/app/data/snowfall_2002_2022.nc\"\n",
    "snowmelt = \"/app/data/snowmelt_2002_2022.nc\"\n",
    "surface_pressure = \"/app/data/surface_pressure_2002_2022.nc\"\n",
    "total_precipitation = \"/app/data/total_precipitation_2002_2022.nc\""
   ]
  },
  {
   "cell_type": "code",
   "execution_count": 6,
   "id": "d2383100",
   "metadata": {},
   "outputs": [],
   "source": [
    "from sparkxarray.reader import ncread\n",
    "\n",
    "rdd = ncread(sc, total_precipitation, mode='single', partition_on=['time'], partitions=100)"
   ]
  },
  {
   "cell_type": "code",
   "execution_count": null,
   "id": "ac07609d",
   "metadata": {},
   "outputs": [],
   "source": [
    "rdd.count()"
   ]
  },
  {
   "cell_type": "markdown",
   "id": "921ebcfe",
   "metadata": {},
   "source": [
    "# clip : create a new RDD with elements containing values from our region of interest"
   ]
  },
  {
   "cell_type": "code",
   "execution_count": null,
   "id": "1954bd92",
   "metadata": {},
   "outputs": [],
   "source": [
    "def get_region_of_interest(dset):\n",
    "    return dset.sel(latitude=slice(33.23, 32.93), longitude=slice(-5.06, -8.26))"
   ]
  },
  {
   "cell_type": "code",
   "execution_count": null,
   "id": "d22a1c98",
   "metadata": {},
   "outputs": [],
   "source": [
    "region_of_interest = rdd.map(get_region_of_interest).cache()"
   ]
  },
  {
   "cell_type": "code",
   "execution_count": null,
   "id": "b072d0b9",
   "metadata": {},
   "outputs": [],
   "source": [
    "region_of_interest.count()"
   ]
  }
 ],
 "metadata": {
  "kernelspec": {
   "display_name": "Python 3 (ipykernel)",
   "language": "python",
   "name": "python3"
  },
  "language_info": {
   "codemirror_mode": {
    "name": "ipython",
    "version": 3
   },
   "file_extension": ".py",
   "mimetype": "text/x-python",
   "name": "python",
   "nbconvert_exporter": "python",
   "pygments_lexer": "ipython3",
   "version": "3.10.6"
  }
 },
 "nbformat": 4,
 "nbformat_minor": 5
}
