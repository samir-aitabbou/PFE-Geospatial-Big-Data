{
 "cells": [
  {
   "cell_type": "markdown",
   "id": "3e8296e6",
   "metadata": {},
   "source": [
    "# Joblib"
   ]
  },
  {
   "cell_type": "markdown",
   "id": "bdd4bbf3",
   "metadata": {},
   "source": [
    "##### Joblib est une bibliothèque Python qui permet une parallélisation facile des tâches liées au processeur. Il est particulièrement utile pour les tâches qui impliquent des calculs lourds, comme le traitement de données ou l'apprentissage automatique. "
   ]
  },
  {
   "cell_type": "code",
   "execution_count": 2,
   "id": "1ddbade7",
   "metadata": {},
   "outputs": [
    {
     "name": "stdout",
     "output_type": "stream",
     "text": [
      "Requirement already satisfied: joblib in /usr/local/lib/python3.10/dist-packages (1.3.1)\n",
      "\u001b[33mWARNING: Running pip as the 'root' user can result in broken permissions and conflicting behaviour with the system package manager. It is recommended to use a virtual environment instead: https://pip.pypa.io/warnings/venv\u001b[0m\u001b[33m\n",
      "\u001b[0m\n",
      "\u001b[1m[\u001b[0m\u001b[34;49mnotice\u001b[0m\u001b[1;39;49m]\u001b[0m\u001b[39;49m A new release of pip is available: \u001b[0m\u001b[31;49m23.1.2\u001b[0m\u001b[39;49m -> \u001b[0m\u001b[32;49m23.2\u001b[0m\n",
      "\u001b[1m[\u001b[0m\u001b[34;49mnotice\u001b[0m\u001b[1;39;49m]\u001b[0m\u001b[39;49m To update, run: \u001b[0m\u001b[32;49mpython3 -m pip install --upgrade pip\u001b[0m\n"
     ]
    }
   ],
   "source": [
    "!pip3 install joblib\n"
   ]
  },
  {
   "cell_type": "markdown",
   "id": "7e12d2cd",
   "metadata": {},
   "source": [
    "La vision est de fournir des outils pour obtenir facilement de meilleures performances et une meilleure reproductibilité lorsque vous travaillez avec des travaux de longue durée.\n",
    "\n",
    "#### Évitez de calculer deux fois la même chose :\n",
    "le code est souvent réexécuté encore et encore, par exemple lors du prototypage de travaux lourds en calcul (comme dans le développement scientifique), mais les solutions artisanales pour résoudre ce problème sont sujettes aux erreurs et conduisent souvent à des résultats non reproductibles.\n",
    "\n",
    "#### Persistance sur le disque de manière transparente : \n",
    "il est difficile de conserver efficacement des objets arbitraires contenant des données volumineuses. L'utilisation du mécanisme de mise en cache de joblib évite la persistance manuscrite et lie implicitement le fichier sur disque au contexte d'exécution de l'objet Python d'origine. En conséquence, la persistance de joblib est bonne pour reprendre un statut d'application ou un travail de calcul, par exemple après un crash."
   ]
  },
  {
   "cell_type": "markdown",
   "id": "c2e1c4e8",
   "metadata": {},
   "source": [
    "# 1) Assistant parallèle embarrassant"
   ]
  },
  {
   "cell_type": "markdown",
   "id": "a2f6cf2a",
   "metadata": {},
   "source": [
    "## Traitement légers "
   ]
  },
  {
   "cell_type": "code",
   "execution_count": 5,
   "id": "7564a3a2",
   "metadata": {},
   "outputs": [
    {
     "name": "stdout",
     "output_type": "stream",
     "text": [
      "Temps d'exécution sans parallélisation: 0.10040926933288574\n",
      "Temps d'exécution avec parallélisation: 4.4656970500946045\n"
     ]
    }
   ],
   "source": [
    "import time\n",
    "from joblib import Parallel, delayed\n",
    "\n",
    "# Fonction pour effectuer une opération simple (multiplication ici)\n",
    "def operation_simple(item):\n",
    "    for i in \n",
    "    return item * 2\n",
    "\n",
    "# Données à traiter\n",
    "data = list(range(1000000))\n",
    "\n",
    "# Sans parallélisation (exécution séquentielle)\n",
    "start_time = time.time()\n",
    "\n",
    "resultats_sans_parallel = [operation_simple(item) for item in data]\n",
    "\n",
    "end_time = time.time()\n",
    "temps_execution_sans_parallel = end_time - start_time\n",
    "\n",
    "# En utilisant Joblib pour paralléliser l'opération\n",
    "start_time = time.time()\n",
    "\n",
    "resultats_avec_parallel = Parallel(n_jobs=12)(delayed(operation_simple)(item) for item in data)\n",
    "\n",
    "end_time = time.time()\n",
    "temps_execution_avec_parallel = end_time - start_time\n",
    "\n",
    "# Comparaison des temps d'exécution\n",
    "print(\"Temps d'exécution sans parallélisation:\", temps_execution_sans_parallel)\n",
    "print(\"Temps d'exécution avec parallélisation:\", temps_execution_avec_parallel)"
   ]
  },
  {
   "cell_type": "markdown",
   "id": "08eca10b",
   "metadata": {},
   "source": [
    "!!! Le temps d'exécution sans parallélisation étant nettement inférieur au temps d'exécution avec parallélisation dans notre exemple, parceque la tâche simple utilisée dans le code est trop petite pour montrer l'avantage de la parallélisation. En effet, la création des tâches parallèles et leur distribution entre les cœurs peuvent engendrer un certain surcoût qui devient significatif lorsque la tâche est petite"
   ]
  },
  {
   "cell_type": "markdown",
   "id": "e13adc9e",
   "metadata": {},
   "source": [
    "## Traitement Lourd"
   ]
  },
  {
   "cell_type": "code",
   "execution_count": 10,
   "id": "0a6fff16",
   "metadata": {},
   "outputs": [
    {
     "name": "stdout",
     "output_type": "stream",
     "text": [
      "Temps d'exécution sans parallélisation: 2.035102367401123\n",
      "\n",
      "Temps d'exécution avec parallélisation: 0.4305577278137207\n"
     ]
    }
   ],
   "source": [
    "import time\n",
    "from joblib import Parallel, delayed\n",
    "\n",
    "# Fonction pour effectuer une tâche intensive en calculs (factorielle ici)\n",
    "def factorielle(n):\n",
    "    result = 1\n",
    "    for i in range(1, n+1):\n",
    "        result *= 99999999999999999999999999999999999*i\n",
    "    return result\n",
    "\n",
    "# Données à traiter\n",
    "data = list(range(1, 1001))  # Calculer factorielle de 1 à 1000\n",
    "\n",
    "# Sans parallélisation (exécution séquentielle)\n",
    "start_time = time.time()\n",
    "\n",
    "resultats_sans_parallel = [factorielle(n) for n in data]\n",
    "\n",
    "end_time = time.time()\n",
    "temps_execution_sans_parallel = end_time - start_time\n",
    "\n",
    "# En utilisant Joblib pour paralléliser l'opération\n",
    "start_time = time.time()\n",
    "\n",
    "resultats_avec_parallel = Parallel(n_jobs=-1)(delayed(factorielle)(n) for n in data)\n",
    "\n",
    "end_time = time.time()\n",
    "temps_execution_avec_parallel = end_time - start_time\n",
    "\n",
    "# Comparaison des temps d'exécution\n",
    "print(\"Temps d'exécution sans parallélisation:\", temps_execution_sans_parallel)\n",
    "print(\"\\nTemps d'exécution avec parallélisation:\", temps_execution_avec_parallel)\n"
   ]
  },
  {
   "cell_type": "markdown",
   "id": "2586069c",
   "metadata": {},
   "source": [
    "# 2) Mise en cache disque transparente et rapide de la valeur de sortie"
   ]
  },
  {
   "cell_type": "markdown",
   "id": "5c5b3382",
   "metadata": {},
   "source": [
    "Joblib fournit un mécanisme de mise en cache pour mettre en cache de manière transparente les résultats des appels de fonctions coûteux sur le disque, permettant une mémorisation efficace (réévaluation paresseuse) de ces fonctions. Cela peut considérablement accélérer le calcul en évitant d'avoir à recalculer les résultats pour les mêmes arguments d'entrée. Pour utiliser Joblib pour la mise en cache disque transparente des fonctions et la mémorisation, nous suivrons ces étapes :\n"
   ]
  },
  {
   "cell_type": "code",
   "execution_count": 25,
   "id": "b0ff848e",
   "metadata": {},
   "outputs": [
    {
     "name": "stdout",
     "output_type": "stream",
     "text": [
      "Fibonacci with caching: Result = 832040 Time = 0.0022644996643066406 seconds\n",
      "\n",
      "Fibonacci without caching: Result = 832040 Time = 0.19536638259887695 seconds\n"
     ]
    }
   ],
   "source": [
    "import time\n",
    "from joblib import Memory\n",
    "\n",
    "# Create a Joblib Memory object with caching enabled\n",
    "cache_dir = \"/cache_dir\"\n",
    "memory = Memory(location=cache_dir, verbose=0)\n",
    "\n",
    "# Define the Fibonacci function with caching enabled\n",
    "@memory.cache\n",
    "def fibonacci_with_cache(n):\n",
    "    if n <= 1:\n",
    "        return n\n",
    "    return fibonacci_with_cache(n-1) + fibonacci_with_cache(n-2)\n",
    "\n",
    "# Define the Fibonacci function without caching\n",
    "def fibonacci_without_cache(n):\n",
    "    if n <= 1:\n",
    "        return n\n",
    "    return fibonacci_without_cache(n-1) + fibonacci_without_cache(n-2)\n",
    "\n",
    "# Compare the time execution with and without caching\n",
    "n = 30\n",
    "\n",
    "# Time execution with caching enabled\n",
    "start_time = time.time()\n",
    "result_with_cache = fibonacci_with_cache(n)\n",
    "end_time = time.time()\n",
    "time_with_cache = end_time - start_time\n",
    "\n",
    "# Time execution without caching\n",
    "start_time = time.time()\n",
    "result_without_cache = fibonacci_without_cache(n)\n",
    "end_time = time.time()\n",
    "time_without_cache = end_time - start_time\n",
    "\n",
    "# Print the results\n",
    "print(\"Fibonacci with caching: Result =\", result_with_cache, \"Time =\", time_with_cache, \"seconds\")\n",
    "print(\"\\nFibonacci without caching: Result =\", result_without_cache, \"Time =\", time_without_cache, \"seconds\")"
   ]
  },
  {
   "cell_type": "code",
   "execution_count": null,
   "id": "f7dd0c08",
   "metadata": {},
   "outputs": [],
   "source": []
  },
  {
   "cell_type": "code",
   "execution_count": null,
   "id": "9083a202",
   "metadata": {},
   "outputs": [],
   "source": []
  },
  {
   "cell_type": "code",
   "execution_count": null,
   "id": "10a7204c",
   "metadata": {},
   "outputs": [],
   "source": []
  },
  {
   "cell_type": "markdown",
   "id": "df30f88f",
   "metadata": {},
   "source": [
    "# Dask"
   ]
  },
  {
   "cell_type": "markdown",
   "id": "fce34477",
   "metadata": {},
   "source": [
    "## dask.bag"
   ]
  },
  {
   "cell_type": "code",
   "execution_count": 30,
   "id": "2a81d55f",
   "metadata": {},
   "outputs": [],
   "source": [
    "# !pip install dask"
   ]
  },
  {
   "cell_type": "markdown",
   "id": "66373435",
   "metadata": {},
   "source": [
    "### Without dask.bag"
   ]
  },
  {
   "cell_type": "code",
   "execution_count": 27,
   "id": "457d9133",
   "metadata": {},
   "outputs": [],
   "source": [
    "import dask\n",
    "from dask import delayed, compute"
   ]
  },
  {
   "cell_type": "code",
   "execution_count": 28,
   "id": "34f78b7d",
   "metadata": {},
   "outputs": [
    {
     "name": "stdout",
     "output_type": "stream",
     "text": [
      "Total sum: 50000005000000\n",
      "Time taken (sequential): 0.30614256858825684 seconds\n"
     ]
    }
   ],
   "source": [
    "import time\n",
    "\n",
    "def sequential_sum(numbers):\n",
    "    total_sum = 0\n",
    "    for num in numbers:\n",
    "        total_sum += num\n",
    "    return total_sum\n",
    "\n",
    "# Create a large list of numbers\n",
    "large_list = list(range(1, 10000001))\n",
    "\n",
    "start_time = time.time()\n",
    "result = sequential_sum(large_list)\n",
    "end_time = time.time()\n",
    "\n",
    "print(f\"Total sum: {result}\")\n",
    "print(f\"Time taken (sequential): {end_time - start_time} seconds\")"
   ]
  },
  {
   "cell_type": "markdown",
   "id": "3c6b0c8e",
   "metadata": {},
   "source": [
    "### With dask.bag"
   ]
  },
  {
   "cell_type": "code",
   "execution_count": 29,
   "id": "0ddbabbf",
   "metadata": {},
   "outputs": [
    {
     "name": "stdout",
     "output_type": "stream",
     "text": [
      "Total sum: 50000005000000\n",
      "Time taken (parallel with Dask): 8.647001028060913 seconds\n"
     ]
    }
   ],
   "source": [
    "import time\n",
    "import dask\n",
    "import dask.bag as db\n",
    "\n",
    "def parallel_sum(numbers):\n",
    "    return sum(numbers)\n",
    "\n",
    "# Create a Dask bag from the large list of numbers\n",
    "large_bag = db.from_sequence(list(range(1, 10000001)))\n",
    "\n",
    "start_time = time.time()\n",
    "result = dask.compute(parallel_sum(large_bag))[0]\n",
    "end_time = time.time()\n",
    "\n",
    "print(f\"Total sum: {result}\")\n",
    "print(f\"Time taken (parallel with Dask): {end_time - start_time} seconds\")\n"
   ]
  },
  {
   "cell_type": "markdown",
   "id": "b5a61273",
   "metadata": {},
   "source": [
    " ## Dask delayed function"
   ]
  },
  {
   "cell_type": "markdown",
   "id": "2bf23cf7",
   "metadata": {},
   "source": [
    "### Without delayed function"
   ]
  },
  {
   "cell_type": "code",
   "execution_count": 47,
   "id": "8782ae33",
   "metadata": {},
   "outputs": [
    {
     "name": "stdout",
     "output_type": "stream",
     "text": [
      "Time taken (sequential): 0.04382729530334473 seconds\n"
     ]
    }
   ],
   "source": [
    "import time\n",
    "\n",
    "def sequential_mul(numbers):\n",
    "    total_mul = 1\n",
    "    for num in numbers:\n",
    "        total_mul *= num\n",
    "    return total_mul\n",
    "\n",
    "# Create a large list of numbers\n",
    "large_list = list(range(1, 10000))\n",
    "\n",
    "start_time = time.time()\n",
    "result = sequential_sum(large_list)\n",
    "end_time = time.time()\n",
    "\n",
    "# print(f\"Total mul: {result}\")\n",
    "print(f\"Time taken (sequential): {end_time - start_time} seconds\")"
   ]
  },
  {
   "cell_type": "markdown",
   "id": "f36d1ae3",
   "metadata": {},
   "source": [
    "### With delayed function"
   ]
  },
  {
   "cell_type": "code",
   "execution_count": 48,
   "id": "dbb08b2f",
   "metadata": {},
   "outputs": [
    {
     "name": "stdout",
     "output_type": "stream",
     "text": [
      "Time taken (parallel with Dask): 0.03241610527038574 seconds\n"
     ]
    }
   ],
   "source": [
    "import time\n",
    "import dask\n",
    "from dask import delayed\n",
    "\n",
    "def sequential_mul(numbers):\n",
    "    total_mul = 1\n",
    "    for num in numbers:\n",
    "        total_mul *= num\n",
    "    return total_mul\n",
    "\n",
    "@delayed\n",
    "def delayed_mul(numbers):\n",
    "    return sequential_mul(numbers)\n",
    "\n",
    "# Create a large list of numbers\n",
    "large_list = list(range(1, 10000))\n",
    "\n",
    "# Create a list of delayed tasks\n",
    "delayed_tasks = [delayed_mul(large_list)]\n",
    "\n",
    "start_time = time.time()\n",
    "\n",
    "# Trigger the computation by calling dask.compute on the list of delayed tasks\n",
    "result = dask.compute(*delayed_tasks)\n",
    "\n",
    "end_time = time.time()\n",
    "\n",
    "# print(f\"Total sum: {result[0]}\")\n",
    "print(f\"Time taken (parallel with Dask): {end_time - start_time} seconds\")\n"
   ]
  },
  {
   "cell_type": "code",
   "execution_count": null,
   "id": "131bb24a",
   "metadata": {},
   "outputs": [],
   "source": []
  }
 ],
 "metadata": {
  "kernelspec": {
   "display_name": "Python 3 (ipykernel)",
   "language": "python",
   "name": "python3"
  },
  "language_info": {
   "codemirror_mode": {
    "name": "ipython",
    "version": 3
   },
   "file_extension": ".py",
   "mimetype": "text/x-python",
   "name": "python",
   "nbconvert_exporter": "python",
   "pygments_lexer": "ipython3",
   "version": "3.10.6"
  }
 },
 "nbformat": 4,
 "nbformat_minor": 5
}
